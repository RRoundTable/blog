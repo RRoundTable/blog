{
  "nbformat": 4,
  "nbformat_minor": 0,
  "metadata": {
    "colab": {
      "name": "2020-03-30-anomaly-detection-by-VAE.ipynb",
      "provenance": [],
      "collapsed_sections": []
    },
    "kernelspec": {
      "name": "python3",
      "display_name": "Python 3"
    },
    "accelerator": "GPU",
    "widgets": {
      "application/vnd.jupyter.widget-state+json": {
        "3bdf7bfa33424afe9e6664871ae9c29e": {
          "model_module": "@jupyter-widgets/controls",
          "model_name": "HBoxModel",
          "state": {
            "_view_name": "HBoxView",
            "_dom_classes": [],
            "_model_name": "HBoxModel",
            "_view_module": "@jupyter-widgets/controls",
            "_model_module_version": "1.5.0",
            "_view_count": null,
            "_view_module_version": "1.5.0",
            "box_style": "",
            "layout": "IPY_MODEL_d0d88d816ae943a1812d00a199d59715",
            "_model_module": "@jupyter-widgets/controls",
            "children": [
              "IPY_MODEL_097cc8b59edf42acbfd1ead07f61bbe8",
              "IPY_MODEL_bedbca85516641ccb5ceca90c0843bb3"
            ]
          }
        },
        "d0d88d816ae943a1812d00a199d59715": {
          "model_module": "@jupyter-widgets/base",
          "model_name": "LayoutModel",
          "state": {
            "_view_name": "LayoutView",
            "grid_template_rows": null,
            "right": null,
            "justify_content": null,
            "_view_module": "@jupyter-widgets/base",
            "overflow": null,
            "_model_module_version": "1.2.0",
            "_view_count": null,
            "flex_flow": null,
            "width": null,
            "min_width": null,
            "border": null,
            "align_items": null,
            "bottom": null,
            "_model_module": "@jupyter-widgets/base",
            "top": null,
            "grid_column": null,
            "overflow_y": null,
            "overflow_x": null,
            "grid_auto_flow": null,
            "grid_area": null,
            "grid_template_columns": null,
            "flex": null,
            "_model_name": "LayoutModel",
            "justify_items": null,
            "grid_row": null,
            "max_height": null,
            "align_content": null,
            "visibility": null,
            "align_self": null,
            "height": null,
            "min_height": null,
            "padding": null,
            "grid_auto_rows": null,
            "grid_gap": null,
            "max_width": null,
            "order": null,
            "_view_module_version": "1.2.0",
            "grid_template_areas": null,
            "object_position": null,
            "object_fit": null,
            "grid_auto_columns": null,
            "margin": null,
            "display": null,
            "left": null
          }
        },
        "097cc8b59edf42acbfd1ead07f61bbe8": {
          "model_module": "@jupyter-widgets/controls",
          "model_name": "IntProgressModel",
          "state": {
            "_view_name": "ProgressView",
            "style": "IPY_MODEL_aaefda59b2674f03934cea78f5aa8275",
            "_dom_classes": [],
            "description": "",
            "_model_name": "IntProgressModel",
            "bar_style": "info",
            "max": 1,
            "_view_module": "@jupyter-widgets/controls",
            "_model_module_version": "1.5.0",
            "value": 1,
            "_view_count": null,
            "_view_module_version": "1.5.0",
            "orientation": "horizontal",
            "min": 0,
            "description_tooltip": null,
            "_model_module": "@jupyter-widgets/controls",
            "layout": "IPY_MODEL_23dabf490fce496b959a8b4753bffa49"
          }
        },
        "bedbca85516641ccb5ceca90c0843bb3": {
          "model_module": "@jupyter-widgets/controls",
          "model_name": "HTMLModel",
          "state": {
            "_view_name": "HTMLView",
            "style": "IPY_MODEL_3922184c838c4b768573ac7a8f91a672",
            "_dom_classes": [],
            "description": "",
            "_model_name": "HTMLModel",
            "placeholder": "​",
            "_view_module": "@jupyter-widgets/controls",
            "_model_module_version": "1.5.0",
            "value": " 9920512/? [00:20&lt;00:00, 2045129.04it/s]",
            "_view_count": null,
            "_view_module_version": "1.5.0",
            "description_tooltip": null,
            "_model_module": "@jupyter-widgets/controls",
            "layout": "IPY_MODEL_cd09091252824483a7a123a3fc039302"
          }
        },
        "aaefda59b2674f03934cea78f5aa8275": {
          "model_module": "@jupyter-widgets/controls",
          "model_name": "ProgressStyleModel",
          "state": {
            "_view_name": "StyleView",
            "_model_name": "ProgressStyleModel",
            "description_width": "initial",
            "_view_module": "@jupyter-widgets/base",
            "_model_module_version": "1.5.0",
            "_view_count": null,
            "_view_module_version": "1.2.0",
            "bar_color": null,
            "_model_module": "@jupyter-widgets/controls"
          }
        },
        "23dabf490fce496b959a8b4753bffa49": {
          "model_module": "@jupyter-widgets/base",
          "model_name": "LayoutModel",
          "state": {
            "_view_name": "LayoutView",
            "grid_template_rows": null,
            "right": null,
            "justify_content": null,
            "_view_module": "@jupyter-widgets/base",
            "overflow": null,
            "_model_module_version": "1.2.0",
            "_view_count": null,
            "flex_flow": null,
            "width": null,
            "min_width": null,
            "border": null,
            "align_items": null,
            "bottom": null,
            "_model_module": "@jupyter-widgets/base",
            "top": null,
            "grid_column": null,
            "overflow_y": null,
            "overflow_x": null,
            "grid_auto_flow": null,
            "grid_area": null,
            "grid_template_columns": null,
            "flex": null,
            "_model_name": "LayoutModel",
            "justify_items": null,
            "grid_row": null,
            "max_height": null,
            "align_content": null,
            "visibility": null,
            "align_self": null,
            "height": null,
            "min_height": null,
            "padding": null,
            "grid_auto_rows": null,
            "grid_gap": null,
            "max_width": null,
            "order": null,
            "_view_module_version": "1.2.0",
            "grid_template_areas": null,
            "object_position": null,
            "object_fit": null,
            "grid_auto_columns": null,
            "margin": null,
            "display": null,
            "left": null
          }
        },
        "3922184c838c4b768573ac7a8f91a672": {
          "model_module": "@jupyter-widgets/controls",
          "model_name": "DescriptionStyleModel",
          "state": {
            "_view_name": "StyleView",
            "_model_name": "DescriptionStyleModel",
            "description_width": "",
            "_view_module": "@jupyter-widgets/base",
            "_model_module_version": "1.5.0",
            "_view_count": null,
            "_view_module_version": "1.2.0",
            "_model_module": "@jupyter-widgets/controls"
          }
        },
        "cd09091252824483a7a123a3fc039302": {
          "model_module": "@jupyter-widgets/base",
          "model_name": "LayoutModel",
          "state": {
            "_view_name": "LayoutView",
            "grid_template_rows": null,
            "right": null,
            "justify_content": null,
            "_view_module": "@jupyter-widgets/base",
            "overflow": null,
            "_model_module_version": "1.2.0",
            "_view_count": null,
            "flex_flow": null,
            "width": null,
            "min_width": null,
            "border": null,
            "align_items": null,
            "bottom": null,
            "_model_module": "@jupyter-widgets/base",
            "top": null,
            "grid_column": null,
            "overflow_y": null,
            "overflow_x": null,
            "grid_auto_flow": null,
            "grid_area": null,
            "grid_template_columns": null,
            "flex": null,
            "_model_name": "LayoutModel",
            "justify_items": null,
            "grid_row": null,
            "max_height": null,
            "align_content": null,
            "visibility": null,
            "align_self": null,
            "height": null,
            "min_height": null,
            "padding": null,
            "grid_auto_rows": null,
            "grid_gap": null,
            "max_width": null,
            "order": null,
            "_view_module_version": "1.2.0",
            "grid_template_areas": null,
            "object_position": null,
            "object_fit": null,
            "grid_auto_columns": null,
            "margin": null,
            "display": null,
            "left": null
          }
        },
        "3a355391c87b4c888dbca83b9cfb9380": {
          "model_module": "@jupyter-widgets/controls",
          "model_name": "HBoxModel",
          "state": {
            "_view_name": "HBoxView",
            "_dom_classes": [],
            "_model_name": "HBoxModel",
            "_view_module": "@jupyter-widgets/controls",
            "_model_module_version": "1.5.0",
            "_view_count": null,
            "_view_module_version": "1.5.0",
            "box_style": "",
            "layout": "IPY_MODEL_f8a260b479dd4075a704f177066c8720",
            "_model_module": "@jupyter-widgets/controls",
            "children": [
              "IPY_MODEL_3777889f58d54a58a5e8f2a5b16df6b1",
              "IPY_MODEL_b8b316e04d01479aa5fd7a8664a3d9b6"
            ]
          }
        },
        "f8a260b479dd4075a704f177066c8720": {
          "model_module": "@jupyter-widgets/base",
          "model_name": "LayoutModel",
          "state": {
            "_view_name": "LayoutView",
            "grid_template_rows": null,
            "right": null,
            "justify_content": null,
            "_view_module": "@jupyter-widgets/base",
            "overflow": null,
            "_model_module_version": "1.2.0",
            "_view_count": null,
            "flex_flow": null,
            "width": null,
            "min_width": null,
            "border": null,
            "align_items": null,
            "bottom": null,
            "_model_module": "@jupyter-widgets/base",
            "top": null,
            "grid_column": null,
            "overflow_y": null,
            "overflow_x": null,
            "grid_auto_flow": null,
            "grid_area": null,
            "grid_template_columns": null,
            "flex": null,
            "_model_name": "LayoutModel",
            "justify_items": null,
            "grid_row": null,
            "max_height": null,
            "align_content": null,
            "visibility": null,
            "align_self": null,
            "height": null,
            "min_height": null,
            "padding": null,
            "grid_auto_rows": null,
            "grid_gap": null,
            "max_width": null,
            "order": null,
            "_view_module_version": "1.2.0",
            "grid_template_areas": null,
            "object_position": null,
            "object_fit": null,
            "grid_auto_columns": null,
            "margin": null,
            "display": null,
            "left": null
          }
        },
        "3777889f58d54a58a5e8f2a5b16df6b1": {
          "model_module": "@jupyter-widgets/controls",
          "model_name": "IntProgressModel",
          "state": {
            "_view_name": "ProgressView",
            "style": "IPY_MODEL_059d05f7fef7445389c670d9f707566f",
            "_dom_classes": [],
            "description": "",
            "_model_name": "IntProgressModel",
            "bar_style": "success",
            "max": 1,
            "_view_module": "@jupyter-widgets/controls",
            "_model_module_version": "1.5.0",
            "value": 1,
            "_view_count": null,
            "_view_module_version": "1.5.0",
            "orientation": "horizontal",
            "min": 0,
            "description_tooltip": null,
            "_model_module": "@jupyter-widgets/controls",
            "layout": "IPY_MODEL_b49c87bfd0a84116b2a326fdaf6d22fb"
          }
        },
        "b8b316e04d01479aa5fd7a8664a3d9b6": {
          "model_module": "@jupyter-widgets/controls",
          "model_name": "HTMLModel",
          "state": {
            "_view_name": "HTMLView",
            "style": "IPY_MODEL_d54d605f816540a1b4e676c30475f017",
            "_dom_classes": [],
            "description": "",
            "_model_name": "HTMLModel",
            "placeholder": "​",
            "_view_module": "@jupyter-widgets/controls",
            "_model_module_version": "1.5.0",
            "value": " 32768/? [00:00&lt;00:00, 101260.58it/s]",
            "_view_count": null,
            "_view_module_version": "1.5.0",
            "description_tooltip": null,
            "_model_module": "@jupyter-widgets/controls",
            "layout": "IPY_MODEL_5a088b3b0af54652a71d5e408f939206"
          }
        },
        "059d05f7fef7445389c670d9f707566f": {
          "model_module": "@jupyter-widgets/controls",
          "model_name": "ProgressStyleModel",
          "state": {
            "_view_name": "StyleView",
            "_model_name": "ProgressStyleModel",
            "description_width": "initial",
            "_view_module": "@jupyter-widgets/base",
            "_model_module_version": "1.5.0",
            "_view_count": null,
            "_view_module_version": "1.2.0",
            "bar_color": null,
            "_model_module": "@jupyter-widgets/controls"
          }
        },
        "b49c87bfd0a84116b2a326fdaf6d22fb": {
          "model_module": "@jupyter-widgets/base",
          "model_name": "LayoutModel",
          "state": {
            "_view_name": "LayoutView",
            "grid_template_rows": null,
            "right": null,
            "justify_content": null,
            "_view_module": "@jupyter-widgets/base",
            "overflow": null,
            "_model_module_version": "1.2.0",
            "_view_count": null,
            "flex_flow": null,
            "width": null,
            "min_width": null,
            "border": null,
            "align_items": null,
            "bottom": null,
            "_model_module": "@jupyter-widgets/base",
            "top": null,
            "grid_column": null,
            "overflow_y": null,
            "overflow_x": null,
            "grid_auto_flow": null,
            "grid_area": null,
            "grid_template_columns": null,
            "flex": null,
            "_model_name": "LayoutModel",
            "justify_items": null,
            "grid_row": null,
            "max_height": null,
            "align_content": null,
            "visibility": null,
            "align_self": null,
            "height": null,
            "min_height": null,
            "padding": null,
            "grid_auto_rows": null,
            "grid_gap": null,
            "max_width": null,
            "order": null,
            "_view_module_version": "1.2.0",
            "grid_template_areas": null,
            "object_position": null,
            "object_fit": null,
            "grid_auto_columns": null,
            "margin": null,
            "display": null,
            "left": null
          }
        },
        "d54d605f816540a1b4e676c30475f017": {
          "model_module": "@jupyter-widgets/controls",
          "model_name": "DescriptionStyleModel",
          "state": {
            "_view_name": "StyleView",
            "_model_name": "DescriptionStyleModel",
            "description_width": "",
            "_view_module": "@jupyter-widgets/base",
            "_model_module_version": "1.5.0",
            "_view_count": null,
            "_view_module_version": "1.2.0",
            "_model_module": "@jupyter-widgets/controls"
          }
        },
        "5a088b3b0af54652a71d5e408f939206": {
          "model_module": "@jupyter-widgets/base",
          "model_name": "LayoutModel",
          "state": {
            "_view_name": "LayoutView",
            "grid_template_rows": null,
            "right": null,
            "justify_content": null,
            "_view_module": "@jupyter-widgets/base",
            "overflow": null,
            "_model_module_version": "1.2.0",
            "_view_count": null,
            "flex_flow": null,
            "width": null,
            "min_width": null,
            "border": null,
            "align_items": null,
            "bottom": null,
            "_model_module": "@jupyter-widgets/base",
            "top": null,
            "grid_column": null,
            "overflow_y": null,
            "overflow_x": null,
            "grid_auto_flow": null,
            "grid_area": null,
            "grid_template_columns": null,
            "flex": null,
            "_model_name": "LayoutModel",
            "justify_items": null,
            "grid_row": null,
            "max_height": null,
            "align_content": null,
            "visibility": null,
            "align_self": null,
            "height": null,
            "min_height": null,
            "padding": null,
            "grid_auto_rows": null,
            "grid_gap": null,
            "max_width": null,
            "order": null,
            "_view_module_version": "1.2.0",
            "grid_template_areas": null,
            "object_position": null,
            "object_fit": null,
            "grid_auto_columns": null,
            "margin": null,
            "display": null,
            "left": null
          }
        },
        "1065faac074147cc9792e0f043081094": {
          "model_module": "@jupyter-widgets/controls",
          "model_name": "HBoxModel",
          "state": {
            "_view_name": "HBoxView",
            "_dom_classes": [],
            "_model_name": "HBoxModel",
            "_view_module": "@jupyter-widgets/controls",
            "_model_module_version": "1.5.0",
            "_view_count": null,
            "_view_module_version": "1.5.0",
            "box_style": "",
            "layout": "IPY_MODEL_ecd217c464c14e6095792f4697211cd3",
            "_model_module": "@jupyter-widgets/controls",
            "children": [
              "IPY_MODEL_bcbafb2883dd4437abf2365dc5a8be63",
              "IPY_MODEL_5611437463484c99b23b4c070f360f58"
            ]
          }
        },
        "ecd217c464c14e6095792f4697211cd3": {
          "model_module": "@jupyter-widgets/base",
          "model_name": "LayoutModel",
          "state": {
            "_view_name": "LayoutView",
            "grid_template_rows": null,
            "right": null,
            "justify_content": null,
            "_view_module": "@jupyter-widgets/base",
            "overflow": null,
            "_model_module_version": "1.2.0",
            "_view_count": null,
            "flex_flow": null,
            "width": null,
            "min_width": null,
            "border": null,
            "align_items": null,
            "bottom": null,
            "_model_module": "@jupyter-widgets/base",
            "top": null,
            "grid_column": null,
            "overflow_y": null,
            "overflow_x": null,
            "grid_auto_flow": null,
            "grid_area": null,
            "grid_template_columns": null,
            "flex": null,
            "_model_name": "LayoutModel",
            "justify_items": null,
            "grid_row": null,
            "max_height": null,
            "align_content": null,
            "visibility": null,
            "align_self": null,
            "height": null,
            "min_height": null,
            "padding": null,
            "grid_auto_rows": null,
            "grid_gap": null,
            "max_width": null,
            "order": null,
            "_view_module_version": "1.2.0",
            "grid_template_areas": null,
            "object_position": null,
            "object_fit": null,
            "grid_auto_columns": null,
            "margin": null,
            "display": null,
            "left": null
          }
        },
        "bcbafb2883dd4437abf2365dc5a8be63": {
          "model_module": "@jupyter-widgets/controls",
          "model_name": "IntProgressModel",
          "state": {
            "_view_name": "ProgressView",
            "style": "IPY_MODEL_113eecce0332490097c3d36fdb56311a",
            "_dom_classes": [],
            "description": "",
            "_model_name": "IntProgressModel",
            "bar_style": "info",
            "max": 1,
            "_view_module": "@jupyter-widgets/controls",
            "_model_module_version": "1.5.0",
            "value": 1,
            "_view_count": null,
            "_view_module_version": "1.5.0",
            "orientation": "horizontal",
            "min": 0,
            "description_tooltip": null,
            "_model_module": "@jupyter-widgets/controls",
            "layout": "IPY_MODEL_6d077393fd9f45b3b1233d5094f2e1c5"
          }
        },
        "5611437463484c99b23b4c070f360f58": {
          "model_module": "@jupyter-widgets/controls",
          "model_name": "HTMLModel",
          "state": {
            "_view_name": "HTMLView",
            "style": "IPY_MODEL_bf58b2e8e0034e1b8d3ce65866716c5f",
            "_dom_classes": [],
            "description": "",
            "_model_name": "HTMLModel",
            "placeholder": "​",
            "_view_module": "@jupyter-widgets/controls",
            "_model_module_version": "1.5.0",
            "value": " 1654784/? [00:13&lt;00:00, 279110.66it/s]",
            "_view_count": null,
            "_view_module_version": "1.5.0",
            "description_tooltip": null,
            "_model_module": "@jupyter-widgets/controls",
            "layout": "IPY_MODEL_1d6824e180b3480380d7a3d3a21dbbb1"
          }
        },
        "113eecce0332490097c3d36fdb56311a": {
          "model_module": "@jupyter-widgets/controls",
          "model_name": "ProgressStyleModel",
          "state": {
            "_view_name": "StyleView",
            "_model_name": "ProgressStyleModel",
            "description_width": "initial",
            "_view_module": "@jupyter-widgets/base",
            "_model_module_version": "1.5.0",
            "_view_count": null,
            "_view_module_version": "1.2.0",
            "bar_color": null,
            "_model_module": "@jupyter-widgets/controls"
          }
        },
        "6d077393fd9f45b3b1233d5094f2e1c5": {
          "model_module": "@jupyter-widgets/base",
          "model_name": "LayoutModel",
          "state": {
            "_view_name": "LayoutView",
            "grid_template_rows": null,
            "right": null,
            "justify_content": null,
            "_view_module": "@jupyter-widgets/base",
            "overflow": null,
            "_model_module_version": "1.2.0",
            "_view_count": null,
            "flex_flow": null,
            "width": null,
            "min_width": null,
            "border": null,
            "align_items": null,
            "bottom": null,
            "_model_module": "@jupyter-widgets/base",
            "top": null,
            "grid_column": null,
            "overflow_y": null,
            "overflow_x": null,
            "grid_auto_flow": null,
            "grid_area": null,
            "grid_template_columns": null,
            "flex": null,
            "_model_name": "LayoutModel",
            "justify_items": null,
            "grid_row": null,
            "max_height": null,
            "align_content": null,
            "visibility": null,
            "align_self": null,
            "height": null,
            "min_height": null,
            "padding": null,
            "grid_auto_rows": null,
            "grid_gap": null,
            "max_width": null,
            "order": null,
            "_view_module_version": "1.2.0",
            "grid_template_areas": null,
            "object_position": null,
            "object_fit": null,
            "grid_auto_columns": null,
            "margin": null,
            "display": null,
            "left": null
          }
        },
        "bf58b2e8e0034e1b8d3ce65866716c5f": {
          "model_module": "@jupyter-widgets/controls",
          "model_name": "DescriptionStyleModel",
          "state": {
            "_view_name": "StyleView",
            "_model_name": "DescriptionStyleModel",
            "description_width": "",
            "_view_module": "@jupyter-widgets/base",
            "_model_module_version": "1.5.0",
            "_view_count": null,
            "_view_module_version": "1.2.0",
            "_model_module": "@jupyter-widgets/controls"
          }
        },
        "1d6824e180b3480380d7a3d3a21dbbb1": {
          "model_module": "@jupyter-widgets/base",
          "model_name": "LayoutModel",
          "state": {
            "_view_name": "LayoutView",
            "grid_template_rows": null,
            "right": null,
            "justify_content": null,
            "_view_module": "@jupyter-widgets/base",
            "overflow": null,
            "_model_module_version": "1.2.0",
            "_view_count": null,
            "flex_flow": null,
            "width": null,
            "min_width": null,
            "border": null,
            "align_items": null,
            "bottom": null,
            "_model_module": "@jupyter-widgets/base",
            "top": null,
            "grid_column": null,
            "overflow_y": null,
            "overflow_x": null,
            "grid_auto_flow": null,
            "grid_area": null,
            "grid_template_columns": null,
            "flex": null,
            "_model_name": "LayoutModel",
            "justify_items": null,
            "grid_row": null,
            "max_height": null,
            "align_content": null,
            "visibility": null,
            "align_self": null,
            "height": null,
            "min_height": null,
            "padding": null,
            "grid_auto_rows": null,
            "grid_gap": null,
            "max_width": null,
            "order": null,
            "_view_module_version": "1.2.0",
            "grid_template_areas": null,
            "object_position": null,
            "object_fit": null,
            "grid_auto_columns": null,
            "margin": null,
            "display": null,
            "left": null
          }
        },
        "a675418e0fc14a3da632065af6cce1b3": {
          "model_module": "@jupyter-widgets/controls",
          "model_name": "HBoxModel",
          "state": {
            "_view_name": "HBoxView",
            "_dom_classes": [],
            "_model_name": "HBoxModel",
            "_view_module": "@jupyter-widgets/controls",
            "_model_module_version": "1.5.0",
            "_view_count": null,
            "_view_module_version": "1.5.0",
            "box_style": "",
            "layout": "IPY_MODEL_b76d4d565dc44335aa82eeb26151fc8e",
            "_model_module": "@jupyter-widgets/controls",
            "children": [
              "IPY_MODEL_e1b9abefd878480aa26d58d97a03cdb8",
              "IPY_MODEL_290c15eb8eee476ba529fb49b398ccc4"
            ]
          }
        },
        "b76d4d565dc44335aa82eeb26151fc8e": {
          "model_module": "@jupyter-widgets/base",
          "model_name": "LayoutModel",
          "state": {
            "_view_name": "LayoutView",
            "grid_template_rows": null,
            "right": null,
            "justify_content": null,
            "_view_module": "@jupyter-widgets/base",
            "overflow": null,
            "_model_module_version": "1.2.0",
            "_view_count": null,
            "flex_flow": null,
            "width": null,
            "min_width": null,
            "border": null,
            "align_items": null,
            "bottom": null,
            "_model_module": "@jupyter-widgets/base",
            "top": null,
            "grid_column": null,
            "overflow_y": null,
            "overflow_x": null,
            "grid_auto_flow": null,
            "grid_area": null,
            "grid_template_columns": null,
            "flex": null,
            "_model_name": "LayoutModel",
            "justify_items": null,
            "grid_row": null,
            "max_height": null,
            "align_content": null,
            "visibility": null,
            "align_self": null,
            "height": null,
            "min_height": null,
            "padding": null,
            "grid_auto_rows": null,
            "grid_gap": null,
            "max_width": null,
            "order": null,
            "_view_module_version": "1.2.0",
            "grid_template_areas": null,
            "object_position": null,
            "object_fit": null,
            "grid_auto_columns": null,
            "margin": null,
            "display": null,
            "left": null
          }
        },
        "e1b9abefd878480aa26d58d97a03cdb8": {
          "model_module": "@jupyter-widgets/controls",
          "model_name": "IntProgressModel",
          "state": {
            "_view_name": "ProgressView",
            "style": "IPY_MODEL_aa1bf32e6c754b398dec2eeed0f7a294",
            "_dom_classes": [],
            "description": "",
            "_model_name": "IntProgressModel",
            "bar_style": "success",
            "max": 1,
            "_view_module": "@jupyter-widgets/controls",
            "_model_module_version": "1.5.0",
            "value": 1,
            "_view_count": null,
            "_view_module_version": "1.5.0",
            "orientation": "horizontal",
            "min": 0,
            "description_tooltip": null,
            "_model_module": "@jupyter-widgets/controls",
            "layout": "IPY_MODEL_6df3ddebe9624052b8792b5c79c6d403"
          }
        },
        "290c15eb8eee476ba529fb49b398ccc4": {
          "model_module": "@jupyter-widgets/controls",
          "model_name": "HTMLModel",
          "state": {
            "_view_name": "HTMLView",
            "style": "IPY_MODEL_350a750f76784d86840f361182ad03dc",
            "_dom_classes": [],
            "description": "",
            "_model_name": "HTMLModel",
            "placeholder": "​",
            "_view_module": "@jupyter-widgets/controls",
            "_model_module_version": "1.5.0",
            "value": " 8192/? [00:00&lt;00:00, 20212.65it/s]",
            "_view_count": null,
            "_view_module_version": "1.5.0",
            "description_tooltip": null,
            "_model_module": "@jupyter-widgets/controls",
            "layout": "IPY_MODEL_61c200a7ebea4afcbb7c14e4e9b32b3a"
          }
        },
        "aa1bf32e6c754b398dec2eeed0f7a294": {
          "model_module": "@jupyter-widgets/controls",
          "model_name": "ProgressStyleModel",
          "state": {
            "_view_name": "StyleView",
            "_model_name": "ProgressStyleModel",
            "description_width": "initial",
            "_view_module": "@jupyter-widgets/base",
            "_model_module_version": "1.5.0",
            "_view_count": null,
            "_view_module_version": "1.2.0",
            "bar_color": null,
            "_model_module": "@jupyter-widgets/controls"
          }
        },
        "6df3ddebe9624052b8792b5c79c6d403": {
          "model_module": "@jupyter-widgets/base",
          "model_name": "LayoutModel",
          "state": {
            "_view_name": "LayoutView",
            "grid_template_rows": null,
            "right": null,
            "justify_content": null,
            "_view_module": "@jupyter-widgets/base",
            "overflow": null,
            "_model_module_version": "1.2.0",
            "_view_count": null,
            "flex_flow": null,
            "width": null,
            "min_width": null,
            "border": null,
            "align_items": null,
            "bottom": null,
            "_model_module": "@jupyter-widgets/base",
            "top": null,
            "grid_column": null,
            "overflow_y": null,
            "overflow_x": null,
            "grid_auto_flow": null,
            "grid_area": null,
            "grid_template_columns": null,
            "flex": null,
            "_model_name": "LayoutModel",
            "justify_items": null,
            "grid_row": null,
            "max_height": null,
            "align_content": null,
            "visibility": null,
            "align_self": null,
            "height": null,
            "min_height": null,
            "padding": null,
            "grid_auto_rows": null,
            "grid_gap": null,
            "max_width": null,
            "order": null,
            "_view_module_version": "1.2.0",
            "grid_template_areas": null,
            "object_position": null,
            "object_fit": null,
            "grid_auto_columns": null,
            "margin": null,
            "display": null,
            "left": null
          }
        },
        "350a750f76784d86840f361182ad03dc": {
          "model_module": "@jupyter-widgets/controls",
          "model_name": "DescriptionStyleModel",
          "state": {
            "_view_name": "StyleView",
            "_model_name": "DescriptionStyleModel",
            "description_width": "",
            "_view_module": "@jupyter-widgets/base",
            "_model_module_version": "1.5.0",
            "_view_count": null,
            "_view_module_version": "1.2.0",
            "_model_module": "@jupyter-widgets/controls"
          }
        },
        "61c200a7ebea4afcbb7c14e4e9b32b3a": {
          "model_module": "@jupyter-widgets/base",
          "model_name": "LayoutModel",
          "state": {
            "_view_name": "LayoutView",
            "grid_template_rows": null,
            "right": null,
            "justify_content": null,
            "_view_module": "@jupyter-widgets/base",
            "overflow": null,
            "_model_module_version": "1.2.0",
            "_view_count": null,
            "flex_flow": null,
            "width": null,
            "min_width": null,
            "border": null,
            "align_items": null,
            "bottom": null,
            "_model_module": "@jupyter-widgets/base",
            "top": null,
            "grid_column": null,
            "overflow_y": null,
            "overflow_x": null,
            "grid_auto_flow": null,
            "grid_area": null,
            "grid_template_columns": null,
            "flex": null,
            "_model_name": "LayoutModel",
            "justify_items": null,
            "grid_row": null,
            "max_height": null,
            "align_content": null,
            "visibility": null,
            "align_self": null,
            "height": null,
            "min_height": null,
            "padding": null,
            "grid_auto_rows": null,
            "grid_gap": null,
            "max_width": null,
            "order": null,
            "_view_module_version": "1.2.0",
            "grid_template_areas": null,
            "object_position": null,
            "object_fit": null,
            "grid_auto_columns": null,
            "margin": null,
            "display": null,
            "left": null
          }
        }
      }
    }
  },
  "cells": [
    {
      "cell_type": "markdown",
      "metadata": {
        "id": "0y1kS7OXhafE",
        "colab_type": "text"
      },
      "source": [
        "# Variational Autoencoder based Anomaly Dection using Reconstruction Probability\n",
        "> by jupyter notebook\n",
        "\n",
        "toc: true\n",
        "badges: true\n",
        "branch: master\n",
        "categories: ['deeplearning', 'anomaly detection']"
      ]
    },
    {
      "cell_type": "markdown",
      "metadata": {
        "id": "ubhTX20QhcYS",
        "colab_type": "text"
      },
      "source": [
        "## Backgraound\n",
        "\n",
        "### Anomaly deteciton\n",
        "\n",
        "anomaly detection 방법은 다음과 같은 3가지 관점으로 분류할 수 있다.\n",
        "\n",
        "- statistical\n",
        "- proximity\n",
        "- deviation\n",
        "\n",
        "**statistical관점**은 data가 특정 분포를 따른다고 가정한다. 예를 들어, parametric model인 Gaussian Mixture Model이나 nonparametric model인 kernel density estimation은 이런 분포를 정의하는데 사용될 수 있다. 만약 특정 data point가 가정한 분포에서 낮은 확률을 가진다면, anomaly라고 정의할 수 있다. probability를 기반으로 anomaly를 정의할 수 있다는 장점을 가지고 있다.\n",
        "\n",
        "**proximity**관점은 anomaly data가 다른 데이터와 고립되어 있다고 가정한다. 이 관점은 크게 세가지 방법을 가지고 있다.\n",
        "\n",
        "- clustering\n",
        "\n",
        "    cluster의 크기나 centroid의 거리를 가지고 anomaly를 결정한다.\n",
        "\n",
        "- density\n",
        "\n",
        "    특정 위치의 data가 밀집된 정도가 낮다면, anomaly로 정의할 수 있다.\n",
        "\n",
        "- distance\n",
        "\n",
        "    neighbor와의 거리가 멀다면, anomaly로 정의할 수 있다.\n",
        "\n",
        "\n",
        "\n",
        "**deviation**\n",
        "\n",
        "reconstruction error를 바탕으로 anomaly를 정의할 수 있다. 이를 위해서는 우선, dimension reduction방법을 통해 압축된 정보를 바탕으로 reconstruct해야한다. 그리고 실제 데이터와의 차이를 reconstruction error로 정의한다. 만약 reconstruction error가 특정 수준보다 높다면, anomaly라고 정의한다.\n",
        "\n",
        "### Autoencoder and anomaly detection\n",
        "\n",
        "![](https://lilianweng.github.io/lil-log/assets/images/autoencoder-architecture.png \"Autoencoder\")\n",
        "\n",
        "autoencoder의 objective는 아래와 같다.\n",
        "\n",
        "$$\n",
        "L_\\text{AE}(\\theta, \\phi) = \\frac{1}{n}\\sum_{i=1}^n (\\mathbf{x}^{(i)} - f_\\theta(g_\\phi(\\mathbf{x}^{(i)})))^2\n",
        "$$\n",
        "\n",
        "autoencoder를 활용하여, anomaly detection을 수행하면, \n",
        "reconstruction error $ \\mid \\mid \\mathbf{x}^{(i)} - f_\\theta(g_\\phi(\\mathbf{x}^{(i)})) \\mid \\mid$를 anomaly를 판별하는데 사용한다.\n",
        "\n",
        "### Variational Autoencoder\n",
        "\n",
        "variation Autoencoder는 다음 링크에서 자세히 확인 할 수 있다.\n",
        "\n",
        "https://rroundtable.github.io/FastPages/vae/deeplearning/2020/03/25/VAE.html\n",
        "\n",
        "\n",
        "autoencoder와의 다른 점은 autoencoder는 input variable자체를 압축하고 복원하는 과정을 거치지만, VAE는 복원하는 것이 input variable로 부터 만들어진 paramters(mean, var)를 바탕으로 복원한다.\n",
        "## Proposed Method\n",
        "\n",
        "\n",
        "\n",
        "### Algorithm\n",
        "\n",
        "Monte-Carlo estimate를 통해서 $\\mathbb{E}_{q_{\\phi (x \\mid z)} [\\log p_{\\theta}(x \\mid z)]}$를 근사할 수 있다.\n",
        "\n",
        "한 데이터 포인트의 reconstruction probability는 다음과 같다.\n",
        "\n",
        "$$\n",
        "\\frac{1}{L} \\sum_{l=1}^L p_{\\theta}(x^{(i)} \\mid u_{\\hat{x}^{(i, l)}}, \\sigma_{\\hat{x}^{(i, l)}})\n",
        "$$\n",
        "\n",
        "\n",
        "### Reconstruction Probability\n",
        "\n",
        "VAE는 복원하는 것이 input variable로 부터 만들어진 paramters(mean, var)를 바탕으로 복원한다. 이 mean과 var로 만들어진 분포는 확률분포로 해석할 수 있다.\n",
        "\n",
        "또한, mean값 뿐만 아니라 variance도 함께 고려한다는 점도 중요하다.\n",
        "\n",
        "### Difference from an autoencoder based anomaly detection\n",
        "\n",
        "첫 번째 차이점은 VAE의 latent variable이 stochastic variable이라는 것이다.(latent variable이 복원해야하는 대상이 아니고 복원에 필요한 parameter를 의미한다.) autoencoder의 latent variable은 deterministic하게 정해진다. 이런 차이점이 VAE의 표현능력을 키워준다. 특정 분포에서 sampling하기 때문에, 다양한 variable를 경험할 수 있다. 그리고 anomaly data는 variance가 높아서 reconstructiuon probability가 낮다.\n",
        "\n",
        "\n",
        "두 번째 차이점은 VAE의 reconstruction variable 또한 stochastic하다는 것이다. reconstruction probability는 original input과 reconstruction간의 차이와 함께 variance도 고려한다.\n",
        "\n",
        "세 번째 차이점은 VAE는 복원정도를 probability 확률로 측정할 수 있다는 것이다. autoencoder는 reconstruction error를 통해서 measure해야하기 때문에, input variable이 heterogeneous하다면 측정하기 힘들다. heterogeneous하다면, 각각 다른 가중치를 곱해줘야 하며, anomaly를 판단하기 위한 threshold를 결정하기도 쉽지 않다.\n",
        "\n",
        "반면에, VAE는 heterogeneous한 데이터에도 각각 다른 가중치를 곱할 필요가 없다. 이는 각 heterogeneous한 데이터 마다 variance를 구해주기 때문에 각각의 분포를 정의할 수 있게 되기 때문이다. 또한 1%의 확률은 어떤 데이터에서든 1%의 의미를 가진다.\n",
        "\n",
        "\n",
        "\n",
        "\n",
        "\n"
      ]
    },
    {
      "cell_type": "markdown",
      "metadata": {
        "id": "qBMtvK4S7T36",
        "colab_type": "text"
      },
      "source": [
        "## Pytorch 구현체\n",
        "\n",
        "- https://github.com/GunhoChoi/PyTorch-FastCampus"
      ]
    },
    {
      "cell_type": "markdown",
      "metadata": {
        "id": "HU1INUfW7aak",
        "colab_type": "text"
      },
      "source": [
        "### 1) Import required libraries"
      ]
    },
    {
      "cell_type": "code",
      "metadata": {
        "id": "gVc38Umf58nw",
        "colab_type": "code",
        "colab": {}
      },
      "source": [
        "import numpy as np\n",
        "import torch\n",
        "import torch.nn as nn\n",
        "import torch.optim as optim\n",
        "import torch.nn.init as init\n",
        "import torchvision.datasets as dset\n",
        "import torchvision.transforms as transforms\n",
        "from torch.utils.data import DataLoader\n",
        "from torch.autograd import Variable\n",
        "import matplotlib.pyplot as plt\n",
        "%matplotlib inline"
      ],
      "execution_count": 0,
      "outputs": []
    },
    {
      "cell_type": "markdown",
      "metadata": {
        "id": "w1OtcANe7epL",
        "colab_type": "text"
      },
      "source": [
        "### 2) Set hyperparmeters"
      ]
    },
    {
      "cell_type": "code",
      "metadata": {
        "id": "tV9ze5IH7jE_",
        "colab_type": "code",
        "colab": {}
      },
      "source": [
        "batch_size = 128\n",
        "learning_rate = 0.0005\n",
        "num_epoch = 10\n",
        "hidden_size = 50"
      ],
      "execution_count": 0,
      "outputs": []
    },
    {
      "cell_type": "markdown",
      "metadata": {
        "id": "pUONju1t7kme",
        "colab_type": "text"
      },
      "source": [
        "3) Download Data"
      ]
    },
    {
      "cell_type": "code",
      "metadata": {
        "id": "2dBCh_QS7m2N",
        "colab_type": "code",
        "colab": {
          "base_uri": "https://localhost:8080/",
          "height": 343,
          "referenced_widgets": [
            "3bdf7bfa33424afe9e6664871ae9c29e",
            "d0d88d816ae943a1812d00a199d59715",
            "097cc8b59edf42acbfd1ead07f61bbe8",
            "bedbca85516641ccb5ceca90c0843bb3",
            "aaefda59b2674f03934cea78f5aa8275",
            "23dabf490fce496b959a8b4753bffa49",
            "3922184c838c4b768573ac7a8f91a672",
            "cd09091252824483a7a123a3fc039302",
            "3a355391c87b4c888dbca83b9cfb9380",
            "f8a260b479dd4075a704f177066c8720",
            "3777889f58d54a58a5e8f2a5b16df6b1",
            "b8b316e04d01479aa5fd7a8664a3d9b6",
            "059d05f7fef7445389c670d9f707566f",
            "b49c87bfd0a84116b2a326fdaf6d22fb",
            "d54d605f816540a1b4e676c30475f017",
            "5a088b3b0af54652a71d5e408f939206",
            "1065faac074147cc9792e0f043081094",
            "ecd217c464c14e6095792f4697211cd3",
            "bcbafb2883dd4437abf2365dc5a8be63",
            "5611437463484c99b23b4c070f360f58",
            "113eecce0332490097c3d36fdb56311a",
            "6d077393fd9f45b3b1233d5094f2e1c5",
            "bf58b2e8e0034e1b8d3ce65866716c5f",
            "1d6824e180b3480380d7a3d3a21dbbb1",
            "a675418e0fc14a3da632065af6cce1b3",
            "b76d4d565dc44335aa82eeb26151fc8e",
            "e1b9abefd878480aa26d58d97a03cdb8",
            "290c15eb8eee476ba529fb49b398ccc4",
            "aa1bf32e6c754b398dec2eeed0f7a294",
            "6df3ddebe9624052b8792b5c79c6d403",
            "350a750f76784d86840f361182ad03dc",
            "61c200a7ebea4afcbb7c14e4e9b32b3a"
          ]
        },
        "outputId": "d9b85568-daee-4a84-f37a-26f7b1bc3e2c"
      },
      "source": [
        "mnist_train = dset.MNIST(\"./\", train=True, transform=transforms.ToTensor(), target_transform=None, download=True)\n",
        "mnist_test = dset.MNIST(\"./\", train=False, transform=transforms.ToTensor(), target_transform=None, download=True)"
      ],
      "execution_count": 3,
      "outputs": [
        {
          "output_type": "stream",
          "text": [
            "Downloading http://yann.lecun.com/exdb/mnist/train-images-idx3-ubyte.gz to ./MNIST/raw/train-images-idx3-ubyte.gz\n"
          ],
          "name": "stdout"
        },
        {
          "output_type": "display_data",
          "data": {
            "application/vnd.jupyter.widget-view+json": {
              "model_id": "3bdf7bfa33424afe9e6664871ae9c29e",
              "version_minor": 0,
              "version_major": 2
            },
            "text/plain": [
              "HBox(children=(IntProgress(value=1, bar_style='info', max=1), HTML(value='')))"
            ]
          },
          "metadata": {
            "tags": []
          }
        },
        {
          "output_type": "stream",
          "text": [
            "Extracting ./MNIST/raw/train-images-idx3-ubyte.gz to ./MNIST/raw\n",
            "Downloading http://yann.lecun.com/exdb/mnist/train-labels-idx1-ubyte.gz to ./MNIST/raw/train-labels-idx1-ubyte.gz\n"
          ],
          "name": "stdout"
        },
        {
          "output_type": "display_data",
          "data": {
            "application/vnd.jupyter.widget-view+json": {
              "model_id": "3a355391c87b4c888dbca83b9cfb9380",
              "version_minor": 0,
              "version_major": 2
            },
            "text/plain": [
              "HBox(children=(IntProgress(value=1, bar_style='info', max=1), HTML(value='')))"
            ]
          },
          "metadata": {
            "tags": []
          }
        },
        {
          "output_type": "stream",
          "text": [
            "Extracting ./MNIST/raw/train-labels-idx1-ubyte.gz to ./MNIST/raw\n",
            "Downloading http://yann.lecun.com/exdb/mnist/t10k-images-idx3-ubyte.gz to ./MNIST/raw/t10k-images-idx3-ubyte.gz\n",
            "\n"
          ],
          "name": "stdout"
        },
        {
          "output_type": "display_data",
          "data": {
            "application/vnd.jupyter.widget-view+json": {
              "model_id": "1065faac074147cc9792e0f043081094",
              "version_minor": 0,
              "version_major": 2
            },
            "text/plain": [
              "HBox(children=(IntProgress(value=1, bar_style='info', max=1), HTML(value='')))"
            ]
          },
          "metadata": {
            "tags": []
          }
        },
        {
          "output_type": "stream",
          "text": [
            "Extracting ./MNIST/raw/t10k-images-idx3-ubyte.gz to ./MNIST/raw\n",
            "Downloading http://yann.lecun.com/exdb/mnist/t10k-labels-idx1-ubyte.gz to ./MNIST/raw/t10k-labels-idx1-ubyte.gz\n"
          ],
          "name": "stdout"
        },
        {
          "output_type": "display_data",
          "data": {
            "application/vnd.jupyter.widget-view+json": {
              "model_id": "a675418e0fc14a3da632065af6cce1b3",
              "version_minor": 0,
              "version_major": 2
            },
            "text/plain": [
              "HBox(children=(IntProgress(value=1, bar_style='info', max=1), HTML(value='')))"
            ]
          },
          "metadata": {
            "tags": []
          }
        },
        {
          "output_type": "stream",
          "text": [
            "Extracting ./MNIST/raw/t10k-labels-idx1-ubyte.gz to ./MNIST/raw\n",
            "Processing...\n",
            "Done!\n"
          ],
          "name": "stdout"
        }
      ]
    },
    {
      "cell_type": "markdown",
      "metadata": {
        "id": "VO1PGMPi7pT9",
        "colab_type": "text"
      },
      "source": [
        "### 4) Set DataLoader"
      ]
    },
    {
      "cell_type": "code",
      "metadata": {
        "id": "hfKN1gxz7ufz",
        "colab_type": "code",
        "colab": {}
      },
      "source": [
        "train_loader = torch.utils.data.DataLoader(mnist_train,batch_size=batch_size, shuffle=True,num_workers=2,drop_last=True)\n",
        "test_loader = torch.utils.data.DataLoader(mnist_test,batch_size=batch_size, shuffle=False,num_workers=2,drop_last=True)"
      ],
      "execution_count": 0,
      "outputs": []
    },
    {
      "cell_type": "markdown",
      "metadata": {
        "id": "OMpLJVMP7wNe",
        "colab_type": "text"
      },
      "source": [
        "### 5) Model"
      ]
    },
    {
      "cell_type": "code",
      "metadata": {
        "id": "w3QXRU-i7y_g",
        "colab_type": "code",
        "outputId": "e9efea5e-d9db-4219-b365-49c0e2724661",
        "colab": {
          "base_uri": "https://localhost:8080/",
          "height": 73
        }
      },
      "source": [
        "class Encoder(nn.Module):\n",
        "    def __init__(self):\n",
        "        super(Encoder,self).__init__()\n",
        "        self.fc1_1 = nn.Linear(784, hidden_size) # for mu\n",
        "        self.fc1_2 = nn.Linear(784, hidden_size) # for logvar\n",
        "        self.relu = nn.ReLU()\n",
        "                        \n",
        "    def encode(self,x):\n",
        "        batch_size = x.size()[0]\n",
        "        x = x.view(batch_size,-1)\n",
        "        mu = self.relu(self.fc1_1(x))\n",
        "        log_var = self.relu(self.fc1_2(x))\n",
        "                \n",
        "        return mu,log_var\n",
        "    \n",
        "    def reparametrize(self, mu, logvar):\n",
        "        '''\n",
        "        Transformation for differentiable function\n",
        "        Return\n",
        "            z = mu + std * eps\n",
        "        '''\n",
        "        std = logvar.mul(0.5).exp_()\n",
        "        eps = torch.FloatTensor(std.size()).normal_()\n",
        "        eps = Variable(eps).cuda()\n",
        "\n",
        "        return eps.mul(std).add_(mu)\n",
        "    \n",
        "    def forward(self,x):\n",
        "        mu, logvar = self.encode(x)\n",
        "        reparam = self.reparametrize(mu,logvar)\n",
        "        \n",
        "        return mu,logvar,reparam\n",
        "\n",
        "class Decoder(nn.Module):\n",
        "    def __init__(self):\n",
        "        super(Decoder,self).__init__()\n",
        "        self.fc1 = nn.Linear(hidden_size, 784)\n",
        "        self.sigmoid = nn.Sigmoid()\n",
        "    \n",
        "    def forward(self,x):\n",
        "        batch_size = x.size()[0]\n",
        "        out = self.fc1(x)\n",
        "        out = self.sigmoid(out)\n",
        "        out = out.view(batch_size,28,28,1)\n",
        "        \n",
        "        return out\n",
        "\n",
        "class VAE(nn.Module):\n",
        "    def __init__(self):\n",
        "        super(VAE,self).__init__()\n",
        "        self.encoder = Encoder()\n",
        "        self.decoder = Decoder()\n",
        "        self.bce = nn.BCELoss(size_average=False)\n",
        "        self.L = 30\n",
        "    \n",
        "    def forward(self, x):\n",
        "        mu, logvar, reparam = self.encoder(x)\n",
        "        out = self.decoder(reparam)\n",
        "        return mu, logvar, out\n",
        "\n",
        "    def get_recon_prob(self, x):\n",
        "        '''Not Completed: Ask to someone'''\n",
        "        mu, logvar = self.encoder.encode(x)\n",
        "        bce_loss = 0\n",
        "        for i in range(self.L):\n",
        "            reparam = self.encoder.reparametrize(mu, logvar)\n",
        "            recon = self.decoder(reparam)\n",
        "            bce_loss += self.bce(recon, x)\n",
        "        bce_loss /= self.L\n",
        "        return bce_loss\n",
        "\n",
        "\n",
        "model = VAE().cuda()"
      ],
      "execution_count": 77,
      "outputs": [
        {
          "output_type": "stream",
          "text": [
            "/usr/local/lib/python3.6/dist-packages/torch/nn/_reduction.py:43: UserWarning: size_average and reduce args will be deprecated, please use reduction='sum' instead.\n",
            "  warnings.warn(warning.format(ret))\n"
          ],
          "name": "stderr"
        }
      ]
    },
    {
      "cell_type": "markdown",
      "metadata": {
        "id": "SC4NEcI-8j8g",
        "colab_type": "text"
      },
      "source": [
        "### 6) Loss function & Optimizer"
      ]
    },
    {
      "cell_type": "code",
      "metadata": {
        "id": "b6LPthyp8oTx",
        "colab_type": "code",
        "colab": {
          "base_uri": "https://localhost:8080/",
          "height": 73
        },
        "outputId": "3d528137-c889-41f8-f30a-01ed4d3d205a"
      },
      "source": [
        "reconstruction_function = nn.BCELoss(size_average=False)\n",
        "\n",
        "def loss_function(recon_x, x, mu, logvar):\n",
        "    BCE = reconstruction_function(recon_x, x) # reconstruction error\n",
        "\n",
        "    # see Appendix B from VAE paper:\n",
        "    # Kingma and Welling. Auto-Encoding Variational Bayes. ICLR, 2014\n",
        "    # https://arxiv.org/abs/1312.6114\n",
        "    # 0.5 * sum(1 + log(sigma^2) - mu^2 - sigma^2)\n",
        "    KLD_element = mu.pow(2).add_(logvar.exp()).mul_(-1).add_(1).add_(logvar)\n",
        "    KLD = torch.sum(KLD_element).mul_(-0.5) # regularizer term\n",
        "\n",
        "    return BCE + KLD\n",
        "\n",
        "parameters = list(model.parameters())\n",
        "optimizer = torch.optim.Adam(parameters, lr=learning_rate)"
      ],
      "execution_count": 78,
      "outputs": [
        {
          "output_type": "stream",
          "text": [
            "/usr/local/lib/python3.6/dist-packages/torch/nn/_reduction.py:43: UserWarning: size_average and reduce args will be deprecated, please use reduction='sum' instead.\n",
            "  warnings.warn(warning.format(ret))\n"
          ],
          "name": "stderr"
        }
      ]
    },
    {
      "cell_type": "markdown",
      "metadata": {
        "id": "-_aYy0u98udX",
        "colab_type": "text"
      },
      "source": [
        "### 7) Train"
      ]
    },
    {
      "cell_type": "code",
      "metadata": {
        "id": "-ZUHcP4m8z-z",
        "colab_type": "code",
        "colab": {
          "base_uri": "https://localhost:8080/",
          "height": 321
        },
        "outputId": "7a9d2513-8235-4c1d-8069-a164f6c3d9ae"
      },
      "source": [
        "res = []\n",
        "\n",
        "for i in range(num_epoch):\n",
        "    cum_loss = 0\n",
        "    for j,[image,label] in enumerate(train_loader):\n",
        "        optimizer.zero_grad()\n",
        "        \n",
        "        image = Variable(image).cuda()\n",
        "        mu, logvar, output = model(image)\n",
        "        \n",
        "        loss = loss_function(output, image, mu, logvar)\n",
        "        cum_loss += loss\n",
        "        loss.backward()\n",
        "        optimizer.step()\n",
        "    res.append(cum_loss / len(train_loader))\n",
        "\n",
        "# Train graph\n",
        "plt.plot(res)\n",
        "plt.show()"
      ],
      "execution_count": 79,
      "outputs": [
        {
          "output_type": "stream",
          "text": [
            "/usr/local/lib/python3.6/dist-packages/torch/nn/modules/loss.py:498: UserWarning: Using a target size (torch.Size([128, 1, 28, 28])) that is different to the input size (torch.Size([128, 28, 28, 1])) is deprecated. Please ensure they have the same size.\n",
            "  return F.binary_cross_entropy(input, target, weight=self.weight, reduction=self.reduction)\n"
          ],
          "name": "stderr"
        },
        {
          "output_type": "display_data",
          "data": {
            "image/png": "[encoded data removed]",
            "text/plain": [
              "<Figure size 432x288 with 1 Axes>"
            ]
          },
          "metadata": {
            "tags": []
          }
        }
      ]
    },
    {
      "cell_type": "markdown",
      "metadata": {
        "id": "9snbGyQx84LL",
        "colab_type": "text"
      },
      "source": [
        "### 8) Make anomaly data"
      ]
    },
    {
      "cell_type": "code",
      "metadata": {
        "id": "o9Dc9vM9eq0m",
        "colab_type": "code",
        "colab": {
          "base_uri": "https://localhost:8080/",
          "height": 545
        },
        "outputId": "0310afd4-44cc-4a83-dd9c-9f9f472b392e"
      },
      "source": [
        "ood1 = np.zeros((28, 28), dtype=np.float32)\n",
        "\n",
        "plt.imshow(ood1)\n",
        "plt.title(\"ood 1\")\n",
        "plt.show()\n",
        "\n",
        "ood2 = np.random.random((28, 28))\n",
        "\n",
        "plt.imshow(ood2)\n",
        "plt.title(\"ood 2\")\n",
        "plt.show()"
      ],
      "execution_count": 80,
      "outputs": [
        {
          "output_type": "display_data",
          "data": {
            "image/png": "[encoded data removed]",
            "text/plain": [
              "<Figure size 432x288 with 1 Axes>"
            ]
          },
          "metadata": {
            "tags": []
          }
        },
        {
          "output_type": "display_data",
          "data": {
            "image/png": "[encoded data removed]",
            "text/plain": [
              "<Figure size 432x288 with 1 Axes>"
            ]
          },
          "metadata": {
            "tags": []
          }
        }
      ]
    },
    {
      "cell_type": "markdown",
      "metadata": {
        "id": "TLCCbGYBhkKV",
        "colab_type": "text"
      },
      "source": [
        "### Test"
      ]
    },
    {
      "cell_type": "code",
      "metadata": {
        "id": "O62MStFJhTLa",
        "colab_type": "code",
        "colab": {
          "base_uri": "https://localhost:8080/",
          "height": 73
        },
        "outputId": "0c45955a-fd4d-4940-b66d-c90e28b7f968"
      },
      "source": [
        "for j,[in_dist,label] in enumerate(test_loader):\n",
        "    break\n",
        "in_dist = torch.unsqueeze(in_dist[0], 0)\n",
        "in_recon_prob = model.get_recon_prob(in_dist.cuda())"
      ],
      "execution_count": 81,
      "outputs": [
        {
          "output_type": "stream",
          "text": [
            "/usr/local/lib/python3.6/dist-packages/torch/nn/modules/loss.py:498: UserWarning: Using a target size (torch.Size([1, 1, 28, 28])) that is different to the input size (torch.Size([1, 28, 28, 1])) is deprecated. Please ensure they have the same size.\n",
            "  return F.binary_cross_entropy(input, target, weight=self.weight, reduction=self.reduction)\n"
          ],
          "name": "stderr"
        }
      ]
    },
    {
      "cell_type": "code",
      "metadata": {
        "id": "kRgy8nB7ifeg",
        "colab_type": "code",
        "colab": {
          "base_uri": "https://localhost:8080/",
          "height": 73
        },
        "outputId": "28bb75d6-3012-4ce3-e9c2-140221f1a6bc"
      },
      "source": [
        "out_dist = np.random.random((1, 1, 28, 28))\n",
        "\n",
        "out_dist = torch.FloatTensor(out_dist).cuda()\n",
        "out_recon_prob = model.get_recon_prob(out_dist)"
      ],
      "execution_count": 82,
      "outputs": [
        {
          "output_type": "stream",
          "text": [
            "/usr/local/lib/python3.6/dist-packages/torch/nn/modules/loss.py:498: UserWarning: Using a target size (torch.Size([1, 1, 28, 28])) that is different to the input size (torch.Size([1, 28, 28, 1])) is deprecated. Please ensure they have the same size.\n",
            "  return F.binary_cross_entropy(input, target, weight=self.weight, reduction=self.reduction)\n"
          ],
          "name": "stderr"
        }
      ]
    },
    {
      "cell_type": "code",
      "metadata": {
        "id": "GtRDh1LLk8SU",
        "colab_type": "code",
        "colab": {
          "base_uri": "https://localhost:8080/",
          "height": 53
        },
        "outputId": "df9125d2-df44-4f64-e37f-9c6468d769ea"
      },
      "source": [
        "in_recon_prob, out_recon_prob"
      ],
      "execution_count": 84,
      "outputs": [
        {
          "output_type": "execute_result",
          "data": {
            "text/plain": [
              "(tensor(110.3578, device='cuda:0', grad_fn=<DivBackward0>),\n",
              " tensor(1126.5494, device='cuda:0', grad_fn=<DivBackward0>))"
            ]
          },
          "metadata": {
            "tags": []
          },
          "execution_count": 84
        }
      ]
    }
  ]
}