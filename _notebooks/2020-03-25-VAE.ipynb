{
  "nbformat": 4,
  "nbformat_minor": 0,
  "metadata": {
    "colab": {
      "name": "2020-03-25-VAE.ipynb",
      "provenance": [],
      "collapsed_sections": []
    },
    "kernelspec": {
      "name": "python3",
      "display_name": "Python 3"
    },
    "accelerator": "GPU",
    "widgets": {
      "application/vnd.jupyter.widget-state+json": {
        "5e76c34dd901463b9fbdeb1c48d54088": {
          "model_module": "@jupyter-widgets/controls",
          "model_name": "HBoxModel",
          "state": {
            "_view_name": "HBoxView",
            "_dom_classes": [],
            "_model_name": "HBoxModel",
            "_view_module": "@jupyter-widgets/controls",
            "_model_module_version": "1.5.0",
            "_view_count": null,
            "_view_module_version": "1.5.0",
            "box_style": "",
            "layout": "IPY_MODEL_47276df89ad84945954602713f386748",
            "_model_module": "@jupyter-widgets/controls",
            "children": [
              "IPY_MODEL_027b9860761e455bb095c3c3e683ffe2",
              "IPY_MODEL_884e8a83e9c14d2bb2ae9353b225cdc9"
            ]
          }
        },
        "47276df89ad84945954602713f386748": {
          "model_module": "@jupyter-widgets/base",
          "model_name": "LayoutModel",
          "state": {
            "_view_name": "LayoutView",
            "grid_template_rows": null,
            "right": null,
            "justify_content": null,
            "_view_module": "@jupyter-widgets/base",
            "overflow": null,
            "_model_module_version": "1.2.0",
            "_view_count": null,
            "flex_flow": null,
            "width": null,
            "min_width": null,
            "border": null,
            "align_items": null,
            "bottom": null,
            "_model_module": "@jupyter-widgets/base",
            "top": null,
            "grid_column": null,
            "overflow_y": null,
            "overflow_x": null,
            "grid_auto_flow": null,
            "grid_area": null,
            "grid_template_columns": null,
            "flex": null,
            "_model_name": "LayoutModel",
            "justify_items": null,
            "grid_row": null,
            "max_height": null,
            "align_content": null,
            "visibility": null,
            "align_self": null,
            "height": null,
            "min_height": null,
            "padding": null,
            "grid_auto_rows": null,
            "grid_gap": null,
            "max_width": null,
            "order": null,
            "_view_module_version": "1.2.0",
            "grid_template_areas": null,
            "object_position": null,
            "object_fit": null,
            "grid_auto_columns": null,
            "margin": null,
            "display": null,
            "left": null
          }
        },
        "027b9860761e455bb095c3c3e683ffe2": {
          "model_module": "@jupyter-widgets/controls",
          "model_name": "IntProgressModel",
          "state": {
            "_view_name": "ProgressView",
            "style": "IPY_MODEL_a5299502abd64731ac5fb15e978a3f99",
            "_dom_classes": [],
            "description": "",
            "_model_name": "IntProgressModel",
            "bar_style": "info",
            "max": 1,
            "_view_module": "@jupyter-widgets/controls",
            "_model_module_version": "1.5.0",
            "value": 1,
            "_view_count": null,
            "_view_module_version": "1.5.0",
            "orientation": "horizontal",
            "min": 0,
            "description_tooltip": null,
            "_model_module": "@jupyter-widgets/controls",
            "layout": "IPY_MODEL_87ad92c50cba440ab5d2db237b4f1413"
          }
        },
        "884e8a83e9c14d2bb2ae9353b225cdc9": {
          "model_module": "@jupyter-widgets/controls",
          "model_name": "HTMLModel",
          "state": {
            "_view_name": "HTMLView",
            "style": "IPY_MODEL_393dd41007a04fcfa050697cb736cbc1",
            "_dom_classes": [],
            "description": "",
            "_model_name": "HTMLModel",
            "placeholder": "​",
            "_view_module": "@jupyter-widgets/controls",
            "_model_module_version": "1.5.0",
            "value": " 9920512/? [06:00&lt;00:00, 29762.07it/s]",
            "_view_count": null,
            "_view_module_version": "1.5.0",
            "description_tooltip": null,
            "_model_module": "@jupyter-widgets/controls",
            "layout": "IPY_MODEL_d24df2cae33b4eaa9068b0174872511a"
          }
        },
        "a5299502abd64731ac5fb15e978a3f99": {
          "model_module": "@jupyter-widgets/controls",
          "model_name": "ProgressStyleModel",
          "state": {
            "_view_name": "StyleView",
            "_model_name": "ProgressStyleModel",
            "description_width": "initial",
            "_view_module": "@jupyter-widgets/base",
            "_model_module_version": "1.5.0",
            "_view_count": null,
            "_view_module_version": "1.2.0",
            "bar_color": null,
            "_model_module": "@jupyter-widgets/controls"
          }
        },
        "87ad92c50cba440ab5d2db237b4f1413": {
          "model_module": "@jupyter-widgets/base",
          "model_name": "LayoutModel",
          "state": {
            "_view_name": "LayoutView",
            "grid_template_rows": null,
            "right": null,
            "justify_content": null,
            "_view_module": "@jupyter-widgets/base",
            "overflow": null,
            "_model_module_version": "1.2.0",
            "_view_count": null,
            "flex_flow": null,
            "width": null,
            "min_width": null,
            "border": null,
            "align_items": null,
            "bottom": null,
            "_model_module": "@jupyter-widgets/base",
            "top": null,
            "grid_column": null,
            "overflow_y": null,
            "overflow_x": null,
            "grid_auto_flow": null,
            "grid_area": null,
            "grid_template_columns": null,
            "flex": null,
            "_model_name": "LayoutModel",
            "justify_items": null,
            "grid_row": null,
            "max_height": null,
            "align_content": null,
            "visibility": null,
            "align_self": null,
            "height": null,
            "min_height": null,
            "padding": null,
            "grid_auto_rows": null,
            "grid_gap": null,
            "max_width": null,
            "order": null,
            "_view_module_version": "1.2.0",
            "grid_template_areas": null,
            "object_position": null,
            "object_fit": null,
            "grid_auto_columns": null,
            "margin": null,
            "display": null,
            "left": null
          }
        },
        "393dd41007a04fcfa050697cb736cbc1": {
          "model_module": "@jupyter-widgets/controls",
          "model_name": "DescriptionStyleModel",
          "state": {
            "_view_name": "StyleView",
            "_model_name": "DescriptionStyleModel",
            "description_width": "",
            "_view_module": "@jupyter-widgets/base",
            "_model_module_version": "1.5.0",
            "_view_count": null,
            "_view_module_version": "1.2.0",
            "_model_module": "@jupyter-widgets/controls"
          }
        },
        "d24df2cae33b4eaa9068b0174872511a": {
          "model_module": "@jupyter-widgets/base",
          "model_name": "LayoutModel",
          "state": {
            "_view_name": "LayoutView",
            "grid_template_rows": null,
            "right": null,
            "justify_content": null,
            "_view_module": "@jupyter-widgets/base",
            "overflow": null,
            "_model_module_version": "1.2.0",
            "_view_count": null,
            "flex_flow": null,
            "width": null,
            "min_width": null,
            "border": null,
            "align_items": null,
            "bottom": null,
            "_model_module": "@jupyter-widgets/base",
            "top": null,
            "grid_column": null,
            "overflow_y": null,
            "overflow_x": null,
            "grid_auto_flow": null,
            "grid_area": null,
            "grid_template_columns": null,
            "flex": null,
            "_model_name": "LayoutModel",
            "justify_items": null,
            "grid_row": null,
            "max_height": null,
            "align_content": null,
            "visibility": null,
            "align_self": null,
            "height": null,
            "min_height": null,
            "padding": null,
            "grid_auto_rows": null,
            "grid_gap": null,
            "max_width": null,
            "order": null,
            "_view_module_version": "1.2.0",
            "grid_template_areas": null,
            "object_position": null,
            "object_fit": null,
            "grid_auto_columns": null,
            "margin": null,
            "display": null,
            "left": null
          }
        },
        "30ac7ad7b4c84d988c5fca9f669a23c3": {
          "model_module": "@jupyter-widgets/controls",
          "model_name": "HBoxModel",
          "state": {
            "_view_name": "HBoxView",
            "_dom_classes": [],
            "_model_name": "HBoxModel",
            "_view_module": "@jupyter-widgets/controls",
            "_model_module_version": "1.5.0",
            "_view_count": null,
            "_view_module_version": "1.5.0",
            "box_style": "",
            "layout": "IPY_MODEL_79a238e2fc614c0b868804d9d4c4b162",
            "_model_module": "@jupyter-widgets/controls",
            "children": [
              "IPY_MODEL_c1ad885f0b43495db070a3e8f0abfcb5",
              "IPY_MODEL_52deed4db1c14ba9b42741e55d6dc959"
            ]
          }
        },
        "79a238e2fc614c0b868804d9d4c4b162": {
          "model_module": "@jupyter-widgets/base",
          "model_name": "LayoutModel",
          "state": {
            "_view_name": "LayoutView",
            "grid_template_rows": null,
            "right": null,
            "justify_content": null,
            "_view_module": "@jupyter-widgets/base",
            "overflow": null,
            "_model_module_version": "1.2.0",
            "_view_count": null,
            "flex_flow": null,
            "width": null,
            "min_width": null,
            "border": null,
            "align_items": null,
            "bottom": null,
            "_model_module": "@jupyter-widgets/base",
            "top": null,
            "grid_column": null,
            "overflow_y": null,
            "overflow_x": null,
            "grid_auto_flow": null,
            "grid_area": null,
            "grid_template_columns": null,
            "flex": null,
            "_model_name": "LayoutModel",
            "justify_items": null,
            "grid_row": null,
            "max_height": null,
            "align_content": null,
            "visibility": null,
            "align_self": null,
            "height": null,
            "min_height": null,
            "padding": null,
            "grid_auto_rows": null,
            "grid_gap": null,
            "max_width": null,
            "order": null,
            "_view_module_version": "1.2.0",
            "grid_template_areas": null,
            "object_position": null,
            "object_fit": null,
            "grid_auto_columns": null,
            "margin": null,
            "display": null,
            "left": null
          }
        },
        "c1ad885f0b43495db070a3e8f0abfcb5": {
          "model_module": "@jupyter-widgets/controls",
          "model_name": "IntProgressModel",
          "state": {
            "_view_name": "ProgressView",
            "style": "IPY_MODEL_6f81bcf6acc44f52bd0cc039e4c8929d",
            "_dom_classes": [],
            "description": "",
            "_model_name": "IntProgressModel",
            "bar_style": "info",
            "max": 1,
            "_view_module": "@jupyter-widgets/controls",
            "_model_module_version": "1.5.0",
            "value": 1,
            "_view_count": null,
            "_view_module_version": "1.5.0",
            "orientation": "horizontal",
            "min": 0,
            "description_tooltip": null,
            "_model_module": "@jupyter-widgets/controls",
            "layout": "IPY_MODEL_8e8a92f8b0724e7e81d99b1e3e0f7591"
          }
        },
        "52deed4db1c14ba9b42741e55d6dc959": {
          "model_module": "@jupyter-widgets/controls",
          "model_name": "HTMLModel",
          "state": {
            "_view_name": "HTMLView",
            "style": "IPY_MODEL_3d2338b4d37d447b9456d23f6b9275aa",
            "_dom_classes": [],
            "description": "",
            "_model_name": "HTMLModel",
            "placeholder": "​",
            "_view_module": "@jupyter-widgets/controls",
            "_model_module_version": "1.5.0",
            "value": " 32768/? [00:15&lt;00:00, 111824.10it/s]",
            "_view_count": null,
            "_view_module_version": "1.5.0",
            "description_tooltip": null,
            "_model_module": "@jupyter-widgets/controls",
            "layout": "IPY_MODEL_72246747eb8b42f495400076fa5f015c"
          }
        },
        "6f81bcf6acc44f52bd0cc039e4c8929d": {
          "model_module": "@jupyter-widgets/controls",
          "model_name": "ProgressStyleModel",
          "state": {
            "_view_name": "StyleView",
            "_model_name": "ProgressStyleModel",
            "description_width": "initial",
            "_view_module": "@jupyter-widgets/base",
            "_model_module_version": "1.5.0",
            "_view_count": null,
            "_view_module_version": "1.2.0",
            "bar_color": null,
            "_model_module": "@jupyter-widgets/controls"
          }
        },
        "8e8a92f8b0724e7e81d99b1e3e0f7591": {
          "model_module": "@jupyter-widgets/base",
          "model_name": "LayoutModel",
          "state": {
            "_view_name": "LayoutView",
            "grid_template_rows": null,
            "right": null,
            "justify_content": null,
            "_view_module": "@jupyter-widgets/base",
            "overflow": null,
            "_model_module_version": "1.2.0",
            "_view_count": null,
            "flex_flow": null,
            "width": null,
            "min_width": null,
            "border": null,
            "align_items": null,
            "bottom": null,
            "_model_module": "@jupyter-widgets/base",
            "top": null,
            "grid_column": null,
            "overflow_y": null,
            "overflow_x": null,
            "grid_auto_flow": null,
            "grid_area": null,
            "grid_template_columns": null,
            "flex": null,
            "_model_name": "LayoutModel",
            "justify_items": null,
            "grid_row": null,
            "max_height": null,
            "align_content": null,
            "visibility": null,
            "align_self": null,
            "height": null,
            "min_height": null,
            "padding": null,
            "grid_auto_rows": null,
            "grid_gap": null,
            "max_width": null,
            "order": null,
            "_view_module_version": "1.2.0",
            "grid_template_areas": null,
            "object_position": null,
            "object_fit": null,
            "grid_auto_columns": null,
            "margin": null,
            "display": null,
            "left": null
          }
        },
        "3d2338b4d37d447b9456d23f6b9275aa": {
          "model_module": "@jupyter-widgets/controls",
          "model_name": "DescriptionStyleModel",
          "state": {
            "_view_name": "StyleView",
            "_model_name": "DescriptionStyleModel",
            "description_width": "",
            "_view_module": "@jupyter-widgets/base",
            "_model_module_version": "1.5.0",
            "_view_count": null,
            "_view_module_version": "1.2.0",
            "_model_module": "@jupyter-widgets/controls"
          }
        },
        "72246747eb8b42f495400076fa5f015c": {
          "model_module": "@jupyter-widgets/base",
          "model_name": "LayoutModel",
          "state": {
            "_view_name": "LayoutView",
            "grid_template_rows": null,
            "right": null,
            "justify_content": null,
            "_view_module": "@jupyter-widgets/base",
            "overflow": null,
            "_model_module_version": "1.2.0",
            "_view_count": null,
            "flex_flow": null,
            "width": null,
            "min_width": null,
            "border": null,
            "align_items": null,
            "bottom": null,
            "_model_module": "@jupyter-widgets/base",
            "top": null,
            "grid_column": null,
            "overflow_y": null,
            "overflow_x": null,
            "grid_auto_flow": null,
            "grid_area": null,
            "grid_template_columns": null,
            "flex": null,
            "_model_name": "LayoutModel",
            "justify_items": null,
            "grid_row": null,
            "max_height": null,
            "align_content": null,
            "visibility": null,
            "align_self": null,
            "height": null,
            "min_height": null,
            "padding": null,
            "grid_auto_rows": null,
            "grid_gap": null,
            "max_width": null,
            "order": null,
            "_view_module_version": "1.2.0",
            "grid_template_areas": null,
            "object_position": null,
            "object_fit": null,
            "grid_auto_columns": null,
            "margin": null,
            "display": null,
            "left": null
          }
        },
        "48eec7d5e37a4e63bb4972065a5c5a37": {
          "model_module": "@jupyter-widgets/controls",
          "model_name": "HBoxModel",
          "state": {
            "_view_name": "HBoxView",
            "_dom_classes": [],
            "_model_name": "HBoxModel",
            "_view_module": "@jupyter-widgets/controls",
            "_model_module_version": "1.5.0",
            "_view_count": null,
            "_view_module_version": "1.5.0",
            "box_style": "",
            "layout": "IPY_MODEL_56afeafb750f450193d253c18eaec478",
            "_model_module": "@jupyter-widgets/controls",
            "children": [
              "IPY_MODEL_05db3d36ffed4ef4be7c5d03a134d362",
              "IPY_MODEL_d01eef2562e9458c8ceebb57c47a5fe0"
            ]
          }
        },
        "56afeafb750f450193d253c18eaec478": {
          "model_module": "@jupyter-widgets/base",
          "model_name": "LayoutModel",
          "state": {
            "_view_name": "LayoutView",
            "grid_template_rows": null,
            "right": null,
            "justify_content": null,
            "_view_module": "@jupyter-widgets/base",
            "overflow": null,
            "_model_module_version": "1.2.0",
            "_view_count": null,
            "flex_flow": null,
            "width": null,
            "min_width": null,
            "border": null,
            "align_items": null,
            "bottom": null,
            "_model_module": "@jupyter-widgets/base",
            "top": null,
            "grid_column": null,
            "overflow_y": null,
            "overflow_x": null,
            "grid_auto_flow": null,
            "grid_area": null,
            "grid_template_columns": null,
            "flex": null,
            "_model_name": "LayoutModel",
            "justify_items": null,
            "grid_row": null,
            "max_height": null,
            "align_content": null,
            "visibility": null,
            "align_self": null,
            "height": null,
            "min_height": null,
            "padding": null,
            "grid_auto_rows": null,
            "grid_gap": null,
            "max_width": null,
            "order": null,
            "_view_module_version": "1.2.0",
            "grid_template_areas": null,
            "object_position": null,
            "object_fit": null,
            "grid_auto_columns": null,
            "margin": null,
            "display": null,
            "left": null
          }
        },
        "05db3d36ffed4ef4be7c5d03a134d362": {
          "model_module": "@jupyter-widgets/controls",
          "model_name": "IntProgressModel",
          "state": {
            "_view_name": "ProgressView",
            "style": "IPY_MODEL_653c852c95b442aa95fed3f005c696ce",
            "_dom_classes": [],
            "description": "",
            "_model_name": "IntProgressModel",
            "bar_style": "info",
            "max": 1,
            "_view_module": "@jupyter-widgets/controls",
            "_model_module_version": "1.5.0",
            "value": 1,
            "_view_count": null,
            "_view_module_version": "1.5.0",
            "orientation": "horizontal",
            "min": 0,
            "description_tooltip": null,
            "_model_module": "@jupyter-widgets/controls",
            "layout": "IPY_MODEL_6f44c36dcea34304bb6da6d7965b56ca"
          }
        },
        "d01eef2562e9458c8ceebb57c47a5fe0": {
          "model_module": "@jupyter-widgets/controls",
          "model_name": "HTMLModel",
          "state": {
            "_view_name": "HTMLView",
            "style": "IPY_MODEL_7ccff9fe7a0b4d7eab4b5c94ffd45440",
            "_dom_classes": [],
            "description": "",
            "_model_name": "HTMLModel",
            "placeholder": "​",
            "_view_module": "@jupyter-widgets/controls",
            "_model_module_version": "1.5.0",
            "value": " 1654784/? [01:15&lt;00:00, 34654.63it/s]",
            "_view_count": null,
            "_view_module_version": "1.5.0",
            "description_tooltip": null,
            "_model_module": "@jupyter-widgets/controls",
            "layout": "IPY_MODEL_d04ae96983144e5b99f11dd8264ec7f3"
          }
        },
        "653c852c95b442aa95fed3f005c696ce": {
          "model_module": "@jupyter-widgets/controls",
          "model_name": "ProgressStyleModel",
          "state": {
            "_view_name": "StyleView",
            "_model_name": "ProgressStyleModel",
            "description_width": "initial",
            "_view_module": "@jupyter-widgets/base",
            "_model_module_version": "1.5.0",
            "_view_count": null,
            "_view_module_version": "1.2.0",
            "bar_color": null,
            "_model_module": "@jupyter-widgets/controls"
          }
        },
        "6f44c36dcea34304bb6da6d7965b56ca": {
          "model_module": "@jupyter-widgets/base",
          "model_name": "LayoutModel",
          "state": {
            "_view_name": "LayoutView",
            "grid_template_rows": null,
            "right": null,
            "justify_content": null,
            "_view_module": "@jupyter-widgets/base",
            "overflow": null,
            "_model_module_version": "1.2.0",
            "_view_count": null,
            "flex_flow": null,
            "width": null,
            "min_width": null,
            "border": null,
            "align_items": null,
            "bottom": null,
            "_model_module": "@jupyter-widgets/base",
            "top": null,
            "grid_column": null,
            "overflow_y": null,
            "overflow_x": null,
            "grid_auto_flow": null,
            "grid_area": null,
            "grid_template_columns": null,
            "flex": null,
            "_model_name": "LayoutModel",
            "justify_items": null,
            "grid_row": null,
            "max_height": null,
            "align_content": null,
            "visibility": null,
            "align_self": null,
            "height": null,
            "min_height": null,
            "padding": null,
            "grid_auto_rows": null,
            "grid_gap": null,
            "max_width": null,
            "order": null,
            "_view_module_version": "1.2.0",
            "grid_template_areas": null,
            "object_position": null,
            "object_fit": null,
            "grid_auto_columns": null,
            "margin": null,
            "display": null,
            "left": null
          }
        },
        "7ccff9fe7a0b4d7eab4b5c94ffd45440": {
          "model_module": "@jupyter-widgets/controls",
          "model_name": "DescriptionStyleModel",
          "state": {
            "_view_name": "StyleView",
            "_model_name": "DescriptionStyleModel",
            "description_width": "",
            "_view_module": "@jupyter-widgets/base",
            "_model_module_version": "1.5.0",
            "_view_count": null,
            "_view_module_version": "1.2.0",
            "_model_module": "@jupyter-widgets/controls"
          }
        },
        "d04ae96983144e5b99f11dd8264ec7f3": {
          "model_module": "@jupyter-widgets/base",
          "model_name": "LayoutModel",
          "state": {
            "_view_name": "LayoutView",
            "grid_template_rows": null,
            "right": null,
            "justify_content": null,
            "_view_module": "@jupyter-widgets/base",
            "overflow": null,
            "_model_module_version": "1.2.0",
            "_view_count": null,
            "flex_flow": null,
            "width": null,
            "min_width": null,
            "border": null,
            "align_items": null,
            "bottom": null,
            "_model_module": "@jupyter-widgets/base",
            "top": null,
            "grid_column": null,
            "overflow_y": null,
            "overflow_x": null,
            "grid_auto_flow": null,
            "grid_area": null,
            "grid_template_columns": null,
            "flex": null,
            "_model_name": "LayoutModel",
            "justify_items": null,
            "grid_row": null,
            "max_height": null,
            "align_content": null,
            "visibility": null,
            "align_self": null,
            "height": null,
            "min_height": null,
            "padding": null,
            "grid_auto_rows": null,
            "grid_gap": null,
            "max_width": null,
            "order": null,
            "_view_module_version": "1.2.0",
            "grid_template_areas": null,
            "object_position": null,
            "object_fit": null,
            "grid_auto_columns": null,
            "margin": null,
            "display": null,
            "left": null
          }
        },
        "02635a9a3dce4920b295925354d72659": {
          "model_module": "@jupyter-widgets/controls",
          "model_name": "HBoxModel",
          "state": {
            "_view_name": "HBoxView",
            "_dom_classes": [],
            "_model_name": "HBoxModel",
            "_view_module": "@jupyter-widgets/controls",
            "_model_module_version": "1.5.0",
            "_view_count": null,
            "_view_module_version": "1.5.0",
            "box_style": "",
            "layout": "IPY_MODEL_b73c2cf3fe074e8dad9ff81caf558aec",
            "_model_module": "@jupyter-widgets/controls",
            "children": [
              "IPY_MODEL_bf9aac33a0844b7a8655656806b622c7",
              "IPY_MODEL_1cdadc66c5a5448e8dde34a2b8d726a5"
            ]
          }
        },
        "b73c2cf3fe074e8dad9ff81caf558aec": {
          "model_module": "@jupyter-widgets/base",
          "model_name": "LayoutModel",
          "state": {
            "_view_name": "LayoutView",
            "grid_template_rows": null,
            "right": null,
            "justify_content": null,
            "_view_module": "@jupyter-widgets/base",
            "overflow": null,
            "_model_module_version": "1.2.0",
            "_view_count": null,
            "flex_flow": null,
            "width": null,
            "min_width": null,
            "border": null,
            "align_items": null,
            "bottom": null,
            "_model_module": "@jupyter-widgets/base",
            "top": null,
            "grid_column": null,
            "overflow_y": null,
            "overflow_x": null,
            "grid_auto_flow": null,
            "grid_area": null,
            "grid_template_columns": null,
            "flex": null,
            "_model_name": "LayoutModel",
            "justify_items": null,
            "grid_row": null,
            "max_height": null,
            "align_content": null,
            "visibility": null,
            "align_self": null,
            "height": null,
            "min_height": null,
            "padding": null,
            "grid_auto_rows": null,
            "grid_gap": null,
            "max_width": null,
            "order": null,
            "_view_module_version": "1.2.0",
            "grid_template_areas": null,
            "object_position": null,
            "object_fit": null,
            "grid_auto_columns": null,
            "margin": null,
            "display": null,
            "left": null
          }
        },
        "bf9aac33a0844b7a8655656806b622c7": {
          "model_module": "@jupyter-widgets/controls",
          "model_name": "IntProgressModel",
          "state": {
            "_view_name": "ProgressView",
            "style": "IPY_MODEL_6e89c5b1d4cc4e1ea9491a41b7b28c53",
            "_dom_classes": [],
            "description": "  0%",
            "_model_name": "IntProgressModel",
            "bar_style": "info",
            "max": 1,
            "_view_module": "@jupyter-widgets/controls",
            "_model_module_version": "1.5.0",
            "value": 0,
            "_view_count": null,
            "_view_module_version": "1.5.0",
            "orientation": "horizontal",
            "min": 0,
            "description_tooltip": null,
            "_model_module": "@jupyter-widgets/controls",
            "layout": "IPY_MODEL_407d309cd2cc49d78f3f60cb3fa8a6e5"
          }
        },
        "1cdadc66c5a5448e8dde34a2b8d726a5": {
          "model_module": "@jupyter-widgets/controls",
          "model_name": "HTMLModel",
          "state": {
            "_view_name": "HTMLView",
            "style": "IPY_MODEL_ba351c402b0b4e87a37cb78887b618cb",
            "_dom_classes": [],
            "description": "",
            "_model_name": "HTMLModel",
            "placeholder": "​",
            "_view_module": "@jupyter-widgets/controls",
            "_model_module_version": "1.5.0",
            "value": " 0/4542 [00:00&lt;?, ?it/s]",
            "_view_count": null,
            "_view_module_version": "1.5.0",
            "description_tooltip": null,
            "_model_module": "@jupyter-widgets/controls",
            "layout": "IPY_MODEL_8822fe89cb0e4c9da6d94b029a1e3a6b"
          }
        },
        "6e89c5b1d4cc4e1ea9491a41b7b28c53": {
          "model_module": "@jupyter-widgets/controls",
          "model_name": "ProgressStyleModel",
          "state": {
            "_view_name": "StyleView",
            "_model_name": "ProgressStyleModel",
            "description_width": "initial",
            "_view_module": "@jupyter-widgets/base",
            "_model_module_version": "1.5.0",
            "_view_count": null,
            "_view_module_version": "1.2.0",
            "bar_color": null,
            "_model_module": "@jupyter-widgets/controls"
          }
        },
        "407d309cd2cc49d78f3f60cb3fa8a6e5": {
          "model_module": "@jupyter-widgets/base",
          "model_name": "LayoutModel",
          "state": {
            "_view_name": "LayoutView",
            "grid_template_rows": null,
            "right": null,
            "justify_content": null,
            "_view_module": "@jupyter-widgets/base",
            "overflow": null,
            "_model_module_version": "1.2.0",
            "_view_count": null,
            "flex_flow": null,
            "width": null,
            "min_width": null,
            "border": null,
            "align_items": null,
            "bottom": null,
            "_model_module": "@jupyter-widgets/base",
            "top": null,
            "grid_column": null,
            "overflow_y": null,
            "overflow_x": null,
            "grid_auto_flow": null,
            "grid_area": null,
            "grid_template_columns": null,
            "flex": null,
            "_model_name": "LayoutModel",
            "justify_items": null,
            "grid_row": null,
            "max_height": null,
            "align_content": null,
            "visibility": null,
            "align_self": null,
            "height": null,
            "min_height": null,
            "padding": null,
            "grid_auto_rows": null,
            "grid_gap": null,
            "max_width": null,
            "order": null,
            "_view_module_version": "1.2.0",
            "grid_template_areas": null,
            "object_position": null,
            "object_fit": null,
            "grid_auto_columns": null,
            "margin": null,
            "display": null,
            "left": null
          }
        },
        "ba351c402b0b4e87a37cb78887b618cb": {
          "model_module": "@jupyter-widgets/controls",
          "model_name": "DescriptionStyleModel",
          "state": {
            "_view_name": "StyleView",
            "_model_name": "DescriptionStyleModel",
            "description_width": "",
            "_view_module": "@jupyter-widgets/base",
            "_model_module_version": "1.5.0",
            "_view_count": null,
            "_view_module_version": "1.2.0",
            "_model_module": "@jupyter-widgets/controls"
          }
        },
        "8822fe89cb0e4c9da6d94b029a1e3a6b": {
          "model_module": "@jupyter-widgets/base",
          "model_name": "LayoutModel",
          "state": {
            "_view_name": "LayoutView",
            "grid_template_rows": null,
            "right": null,
            "justify_content": null,
            "_view_module": "@jupyter-widgets/base",
            "overflow": null,
            "_model_module_version": "1.2.0",
            "_view_count": null,
            "flex_flow": null,
            "width": null,
            "min_width": null,
            "border": null,
            "align_items": null,
            "bottom": null,
            "_model_module": "@jupyter-widgets/base",
            "top": null,
            "grid_column": null,
            "overflow_y": null,
            "overflow_x": null,
            "grid_auto_flow": null,
            "grid_area": null,
            "grid_template_columns": null,
            "flex": null,
            "_model_name": "LayoutModel",
            "justify_items": null,
            "grid_row": null,
            "max_height": null,
            "align_content": null,
            "visibility": null,
            "align_self": null,
            "height": null,
            "min_height": null,
            "padding": null,
            "grid_auto_rows": null,
            "grid_gap": null,
            "max_width": null,
            "order": null,
            "_view_module_version": "1.2.0",
            "grid_template_areas": null,
            "object_position": null,
            "object_fit": null,
            "grid_auto_columns": null,
            "margin": null,
            "display": null,
            "left": null
          }
        }
      }
    }
  },
  "cells": [
    {
      "cell_type": "markdown",
      "metadata": {
        "id": "LEaBPGAsTEYs",
        "colab_type": "text"
      },
      "source": [
        "# VAE Tutorial\n",
        "> Auto-Encoding Variational Bayes 정리글\n",
        "\n",
        "- toc: true\n",
        "- title: VAE Tutorial\n",
        "- branch: master\n",
        "- badges: true\n",
        "- comments: true\n",
        "- author: Wontak Ryu\n",
        "- categories: [VAE, deeplearning]"
      ]
    },
    {
      "cell_type": "markdown",
      "metadata": {
        "id": "Jo5OZ5fFUA3i",
        "colab_type": "text"
      },
      "source": [
        "# Auto-Encoding Variational Bayes\n",
        "## Abstract\n",
        "\n",
        "intractable한 posterior distribution의 random variable인 latent variable과 probabilitstic model이 주어졌을 때, 어떻게 효율적인 inference와 learning을 진행할 수 있을까?\n",
        "\n",
        "해당 논문에서는 대형 데이터셋에도 적용가능한 stochastic variational inference와 learning 알고리즘을 제안한다.\n",
        "\n",
        "이 논문의 contribution은 두 가지이다.\n",
        "1. reparameterisztion of variational lower bound를 통해서 SGD를 사용하여 최적화할 수 있다.\n",
        "2. 독립적인 데이터라는 가정하에서 lower bound estimator를 이용하여 poseterior inference(intractable)를 근사하여 구할 수 있다.\n",
        "\n",
        "\n",
        "> probabilistic model과 대비되는 개념으로는 deterministic model이 있다. 일반적으로 output이 특정확률 분포에서 추출된 random variable이라고 가정한다.\n",
        "\n",
        "**graph model**\n",
        "\n",
        "![](https://2.bp.blogspot.com/-VnKSz_Ds8HI/WPV9J6d7CCI/AAAAAAAABno/oySdUuZJOS83tBdTnb00ADIK8G7IUrAvQCK4B/s400/vae_2.PNG \"Directed Graphical Model\")\n",
        "\n",
        "위의 그림을 보면, 대략적인 구조를 알 수 있다. 우선, 실선은 generative model $p_{\\theta}(Z)p_{\\theta}(X \\mid Z)$을 나타내며, 점선은 variational approximation $q_{\\phi}(Z \\mid X)$과정을 나타낸다. \n",
        "\n",
        "\n",
        "## Method\n",
        "\n",
        "우선, 다음과 같은 가정을 하였다.\n",
        "\n",
        "- i.i.d dataset with latent variables per datapoint\n",
        "\n",
        "위와 같은 가정에서 global parameter 기반으로 MLE 혹은 MAP inference를 진행하고 latent variable으로 variational inference를 진행했다. global parameter에 variational inference를 진행해도 되지만, 해당 논문에서는 다루지 않았다.\n",
        "\n",
        "### Problem scenario\n",
        "\n",
        "i.i.d dataset $X = \\{ x^{(i)} \\}^N_{i=1}$ 은 관측되지 않고 연속적인 변수인 $z$에 생성된 것이라고 가정하고 이는 다음과 같은 과정을 통해서 이루어진다.\n",
        "\n",
        "1. $z$는 prior distribution에서 생성된다. \n",
        "\n",
        "    $$z \\sim p_{\\theta *}(z)$$\n",
        "\n",
        "2. 데이터는 조건부 확률을 통해서 생성된다.\n",
        "\n",
        "    $$x^{(i)} \\sim p_{\\theta *}(x \\mid z)$$\n",
        "\n",
        "그리고, $p_{\\theta *}(z)$와 $p_{\\theta *}(x \\mid z)$는 각각 미분가능한($\\theta, z$에 대해서) PDF(확률밀도함수)를 가진 $p_{\\theta}(z)$와 $p_{\\theta}(x \\mid z)$에서 출발했다고 가정한다.\n",
        "\n",
        "중요한 점은 위의 과정에서는 marginal probability와 posterior probability에 대해서는 어떤 가정도 하지 않았다는 점이다. 이는 아래의 경우에서 보편적으로 사용할 수 있다는 뜻이다.\n",
        "\n",
        "1. Intractability\n",
        "\n",
        "    margianl likelihood $p_{\\theta}(x) = \\int p_{\\theta}(z) p_{\\theta}(x \\mid z)$는 intractable하다. 일반적으로 neural network는 수많은 hidden layer로 이루어져있기 때문에 해당 liklihood$p_{\\theta}(x \\mid z)$는 intractable하다. 또한 이런 이유 때문에 unsupervised learning에서 사용되는 EM알고리즘은 사용하기 힘들다.\n",
        "\n",
        "2. A large dataset\n",
        "\n",
        "    Monte Carlo EM은 너무 느리다. \n",
        "\n",
        "결론적으로 해당 논문이 하고자 하는바는 다음과 같다.\n",
        "\n",
        "1. Efficient approximate ML or MAP estimation for the paramters $\\theta$\n",
        "\n",
        "$$\n",
        "p_{\\theta}(x \\mid z)\n",
        "$$\n",
        "\n",
        "2. Efficient approximate posterior inference of the latent variable z given an observed value x for a choice of parameters $\\theta$\n",
        "\n",
        "$$\n",
        "p_{\\theta}(z \\mid x)\n",
        "$$\n",
        "\n",
        "\n",
        "3. Efficient approximate marginal inference of the variable X\n",
        "\n",
        "$$\n",
        "p_{\\theta}(x) = \\int p_{\\theta}(x \\mid z) p_{\\theta}(z) dz\n",
        "$$\n",
        "\n",
        "위의 목적을 달성하기 위해서, recognition model $q_{\\phi}(z \\mid x)$를 사용하였다.\n",
        "\n",
        "$$\n",
        "q_{\\phi}(z \\mid x) \\approx p_{\\theta}(z \\mid x)\n",
        "$$\n",
        "\n",
        "아래에는 $\\theta, \\phi$을 함께 학습시키는 방법을 소개할 것이다.\n",
        "\n",
        "\n",
        "\n",
        "> mean-field variational inference\n",
        "> 추후 작성 예정\n",
        "\n",
        "\n",
        "\n",
        "$q_{\\phi}(Z \\mid X)$는 probabilistic encoder 역할을 하고 $p_{\\theta}(X \\mid Z)$는 probabilistic decoder의 역할을 한다.\n",
        "\n",
        "![](https://datascienceschool.net/upfiles/f38b90fa89cb46eba22178edbae07a26.png)\n",
        "\n",
        "### The variational bound\n",
        "\n",
        "variational inference란, intractable한 posetrior분포 $p(z \\mid x)$를 다루기 쉬운 확률분포 $q(z)$로 근사하는 것을 의미한다. intractable한 posterior를 직접다루지 않고, lower bound를 증가하는 방식으로 ${ D }_{ KL }\\left( q\\left( z \\right) \\mid \\mid p\\left( z \\mid x \\right)  \\right)$를 감소시킬 수 있다.\n",
        "\n",
        "$$\n",
        "D_{\\mathrm{KL}}(Q \\parallel P) = \\sum_\\mathbf{Z}  Q(\\mathbf{Z}) \\left[ \\log Q(\\mathbf{Z}) -  \\log P(\\mathbf{Z},\\mathbf{X}) \\right] + \\log P(\\mathbf{X}) \n",
        "$$\n",
        "\n",
        "\n",
        "$$\n",
        "D_{\\mathrm{KL}}(Q \\parallel P) \n",
        "= \\mathbb{E}_{\\mathbf Z } \\left[ \\log Q(\\mathbf{Z}) -  \\log P(\\mathbf{Z},\\mathbf{X}) \\right] + \\log P(\\mathbf{X}) \n",
        "$$\n",
        "\n",
        "\n",
        "- marginal probability, 즉 사후확률의 분모인 $p(x)=Σzp(x,z)$를 계산하기 힘든 경우\n",
        "- likelihood, 즉 $p(x \\mid z)$를 더 복잡하게 모델링하고 싶은 경우\n",
        "- prior, 즉 p(z)를 더 복잡하게 모델링하고 싶은 경우\n",
        "\n",
        "\n",
        "\n",
        "전체 marginal likelihood는 각 data point들의 marginal likelihood의 합으로 구성된다.\n",
        "\n",
        "$$\n",
        "\\log p_{\\theta}(X^{(1)}, \\cdots, X^{(N)} = \\sum _{i=1}^N \\log p_{\\theta}(X^{(i)})\n",
        "$$\n",
        "\n",
        "그리고 각 data point의 marginal likelihood는 아래와 같이 구성된다.\n",
        "\n",
        "$$\n",
        "log p_{\\theta}(X^{(i)}) = D_{KL}(q_{\\phi}(Z \\mid X^{(i)}) \\mid \\mid p_{\\theta}(Z \\mid X^{(i)})) + \\mathcal{L}(\\theta, \\phi; X^{(i)})\n",
        "$$\n",
        "\n",
        "첫 번째 term인 $D_{KL}(q_{\\phi}(Z \\mid X^{(i)}) \\mid \\mid p_{\\theta}(Z \\mid X^{(i)}))$은 true posterior와 pred posterior간의 kl-divergence 값으로 non-negative하다는 성격을 가진다. 두 번째 term $\\mathcal{L}(\\theta, \\phi; X^{(i)})$은 lower bound이며 다음과 같이 표현될 수 있다.\n",
        "\n",
        "\n",
        "$$\n",
        "log p_{\\theta}(X^{(i)}) \\ge \\mathcal{L}(\\theta, \\phi; X^{(i)}) = \\mathbb{E}_{q_{\\phi}(Z \\mid X)}[-\\log q_{\\phi}(z \\mid x) + \\log p_{\\theta}(X)]\n",
        "$$\n",
        "\n",
        "$$\n",
        "\\mathcal{L}(\\theta, \\phi; X^{(i)}) = -D_{KL}(q_{\\phi}(Z \\mid X^{(i)}) \\mid \\mid p_{\\theta}(Z )) + \\mathbb{E}_{q_{\\phi}(Z \\mid X)}[\\log p_{\\theta}(X)]\n",
        "$$\n",
        "\n",
        "위의 형태는 $\\mathcal{L}(\\theta, \\phi; X^{(i)})$를 미분하고 최적화를 variational parameters $\\phi$와 generative parameters $\\theta$에 대해서 할 수 있다. 하지만, $\\phi$에 대해서 lower bound의 gradient를 구하는 것은 약간의 문제가 있다. 일반적인 Monte Carlo를 이용하게 되면, variance가 너무 높다는 한계가 있다.\n",
        "\n",
        "\n",
        "### The SGVB estimator and AEVB algorithm\n",
        "\n",
        "이 섹션에서는 효율적으로 lower bound와 lower bound의 parameter에 대한 미분을 구하는 것을 다룬다.\n",
        "\n",
        "reparameterize를 통해서 $\\tilde{z} \\sim q_{\\phi}(z \\mid x)$를 다음과 같은 미분가능한 fuction의 형태로 바꿔줄 수 있다.\n",
        "\n",
        "$$\n",
        "\\tilde{z} = g_{\\phi}(\\epsilon, X) \\text{  with } \\epsilon \\sim p(\\epsilon) \n",
        "$$\n",
        "\n",
        "이를 통해서, Monte Carlo를 이용하여 $f(z)$ w.r.t $q_{\\phi}(z \\mid x)$의 기댓값을 구할 수 있다.\n",
        "\n",
        "\n",
        "$$\n",
        "\\mathbb{E}_{q_{\\phi}(z \\mid x ^{(i)})}[f(z)] = \\mathbb{E}_{p(\\epsilon)}[f(g_{\\phi}(\\epsilon, X ^{(i)}))] = \\frac{1}{L} \\sum_{l=1}^L f(g_{\\phi}(\\epsilon^{(l)}, X ^{(i)})) \\text{   where  } \\epsilon^{(l)} \\sim p(\\epsilon)\n",
        "$$\n",
        "\n",
        "여기서, variational lower bound에 Monte Carlo Estimation을 적용하면 아래와 같이 전개된다. ($\\mathcal{L}(\\theta, \\phi; X^{(i)}) = \\mathbb{E}_{q_{\\phi}(Z \\mid X)}[-\\log q_{\\phi}(z \\mid x) + \\log p_{\\theta}(X)]$)\n",
        "\n",
        "**SGVB(stochastic gradient variational bayes) 1**\n",
        "\n",
        "$$\n",
        "\\tilde{\\mathcal{L}}^A(\\theta, \\phi; X^{(i)}) = \\frac{1}{L} \\sum_{l=1}^L \\log p_{\\theta}(X^{(i)}, Z^{(i, l)}) - \\log q_{\\phi}(Z^{(i, l)} \\mid X^{(i)}) \\text{    where   } Z^{(i, l)} = g_{\\phi}(\\epsilon^{(i, l)}, X^{(i)}), \\ \\ \\epsilon^{(l)} \\sim p(\\epsilon)\n",
        "$$\n",
        "\n",
        "\n",
        "또한, kl-divergence term $D_{KL}(q_{\\phi}(Z \\mid X^{(i)}) \\mid \\mid p_{\\theta}(Z))$은 적분될 수 있는데, 이는 해당논문의 appendix B를 참고하길 바란다.\n",
        "\n",
        "kl-divergence는 $\\phi$를 regularization한다고 해석할 수 있는데, approximate posterior가 prior $p_{\\theta}(z)$를 근사하도록 한다.\n",
        "\n",
        "이러한 관점을 바탕으로 아래와 같은 SGVB(stochastic gradient variational bayes)가 전개된다.\n",
        "\n",
        "\n",
        "**SGVB(stochastic gradient variational bayes) 2**\n",
        "\n",
        "sampling을 통해서 gradient estimate 방법보다 더 낮은 variance를 가진다. $\\log p_{\\theta}(x^{(i)}) \\mid z^{(i, l)})$은 reconstruction error를 나타낸다.\n",
        "\n",
        "$$\n",
        "\\tilde{\\mathcal{L}}^B(\\theta, \\phi; X^{(i)}) = -D_{KL}(q_{\\phi}(Z \\mid X^{(i)}) \\mid \\mid p_{\\theta}(Z)) + \\frac{1}{L} \\sum_{l=1}^L ( \\log p_{\\theta}(x^{(i)}) \\mid z^{(i, l)})\n",
        "\\text{    where   } Z^{(i, l)} = g_{\\phi}(\\epsilon^{(i, l)}, X^{(i)}), \\ \\ \\epsilon^{(l)} \\sim p(\\epsilon)\n",
        "$$\n",
        "\n",
        "- $\\log p_{\\theta}(x^{(i)}) \\mid z^{(i, l)})$ 은 다음과 같은 관계를 가진다.\n",
        "\n",
        "$$\n",
        "p_{\\theta}(x^{(i)}) \\mid z^{(i, l)}) = p_{\\theta}(x^{(i)}_1) \\mid z^{(i, l)}) \\times \\cdots \\times p_{\\theta}(x^{(i)}_M) \\mid z^{(i, l)}) \n",
        "$$\n",
        "\n",
        "$$\n",
        "\\log p_{\\theta}(x^{(i)}) \\mid z^{(i, l)}) = \\log p_{\\theta}(x^{(i)}_1) \\mid z^{(i, l)}) + \\cdots + \\log p_{\\theta}(x^{(i)}_M) \\mid z^{(i, l)}) \n",
        "$$\n",
        "\n",
        "\n",
        "### The reparameterization trick\n",
        "\n",
        "reparameterize를 통해서 $\\tilde{z} \\sim q_{\\phi}(z \\mid x)$를 다음과 같은 미분가능한 fuction의 형태로 바꿔줄 수 있다.\n",
        "\n",
        "$$\n",
        "\\tilde{z} = g_{\\phi}(\\epsilon, X) \\text{  with } \\epsilon \\sim p(\\epsilon) \n",
        "$$\n",
        "\n",
        "여기서 $\\epsilon$은 auxiliary variable이며, 이를 통해서 $g_{\\phi}(\\cdot)$은 vector z를 도출한다.\n",
        "\n",
        "reparameterization이 필요한 이유는 미분가능한 상태를 얻기 위해서이다. 아래는 증명이다.\n",
        "\n",
        "$$\n",
        "q_{\\phi}(Z \\mid X) dz = p(\\epsilon) d\\epsilon\n",
        "$$\n",
        "\n",
        "그러므로,\n",
        "\n",
        "\n",
        "$$\n",
        "\\int q_{\\phi}(Z \\mid X) f(z) dz = \\int p(\\epsilon) f(Z) d\\epsilon = \\int p(\\epsilon) f(g_{\\phi}(\\epsilon, X)) d\\epsilon\n",
        "$$\n",
        "\n",
        "그리고, Monte Carlo Estimation을 고려하면,\n",
        "\n",
        "$$\n",
        "\\int q_{\\phi}(Z \\mid X) f(z) dz \\approx \\frac{1}{L} \\sum_{l=1}^Lf(g_{\\phi}(\\epsilon^{(l)}, X))\n",
        "$$\n",
        "\n",
        "\n",
        "**가우시안 분포를 예시로 살펴보자**\n",
        "\n",
        "$$\n",
        "z \\sim p(z \\mid x) = \\mathcal{N}(u, \\sigma^2)\n",
        "$$\n",
        "\n",
        "reparameterization을 적용하게 되면, 다음과 같이 생각할 수 있다.\n",
        "\n",
        "$$\n",
        "z = u + \\sigma \\epsilon \\text{    where  } \\epsilon \\sim \\mathcal{N}(0, 1)\n",
        "$$\n",
        "\n",
        "이를 바탕으로, 다음과 같은 수식전개가 가능하다.\n",
        "\n",
        "$$\n",
        "\\mathbb{E}_{\\mathcal{N}(z;u,\\sigma^2)}[f(z)] = \\mathbb{E}_{\\mathcal{N}(\\epsilon;0,1)}[f(u + \\sigma \\epsilon)] \\approx \\frac{1}{L} \\sum_{l=1}^L f(u + \\sigma \\epsilon ^{(l)}) \\text{   where  } \\epsilon^{(l)} \\sim \\mathcal{N}(0,1)\n",
        "$$\n",
        "\n",
        "어떤 $q_{\\phi}(z \\mid x)$에대해 변환 함수 $g_{\\phi}(\\cdot)$과 $\\epsilon \\sim p(\\epsilon)$을 사용하여 위와 같이 reparmeterization 할 수 있을지 살펴보자.\n",
        "\n",
        "1. Tractable Inverse of CDF\n",
        "2. Gaussian과 유사하게 location, scale 개념의 분포\n",
        "3. random variables as different transformations\n",
        "of auxiliary variables\n",
        "\n",
        "위의 과정이 모두 실패하면, inverse of CDF를 근사하는 방식으로 접근할 수 있으며, time complexity는 PDF만큼 필요하다고 한다.\n",
        "\n",
        "\n",
        "**inverse CDF**\n",
        "\n",
        "아래와 같이 CDF가 정의된다면,\n",
        "\n",
        "$$\n",
        "F(X) = U \\text{   where X is random variable}\n",
        "$$\n",
        "\n",
        "inverse CDF는 다음과 같이 정의될 수 있다.\n",
        "\n",
        "$$\n",
        "F^{-1}(U) = X \\text{   where X is random variable}\n",
        "$$\n",
        "\n",
        "즉, $g_{\\phi}(\\cdot)$를 inverse CDF로 사용한다는 것은 $\\epsilon$을 활용하여, 난수를 생성한다고 이해할 수 있다.\n"
      ]
    },
    {
      "cell_type": "markdown",
      "metadata": {
        "id": "1MbvuE2UBLXu",
        "colab_type": "text"
      },
      "source": [
        "## Pytorch 구현체\n",
        "- reference: https://github.com/GunhoChoi/PyTorch-FastCampus"
      ]
    },
    {
      "cell_type": "markdown",
      "metadata": {
        "id": "sVEn5af8BpE8",
        "colab_type": "text"
      },
      "source": [
        "### 1)  Import required libraries"
      ]
    },
    {
      "cell_type": "code",
      "metadata": {
        "id": "531KHBnzTFxL",
        "colab_type": "code",
        "colab": {}
      },
      "source": [
        "import numpy as np\n",
        "import torch\n",
        "import torch.nn as nn\n",
        "import torch.optim as optim\n",
        "import torch.nn.init as init\n",
        "import torchvision.datasets as dset\n",
        "import torchvision.transforms as transforms\n",
        "from torch.utils.data import DataLoader\n",
        "from torch.autograd import Variable\n",
        "import matplotlib.pyplot as plt\n",
        "%matplotlib inline"
      ],
      "execution_count": 0,
      "outputs": []
    },
    {
      "cell_type": "markdown",
      "metadata": {
        "id": "bddgHCIoBwCo",
        "colab_type": "text"
      },
      "source": [
        "\n",
        "2) Set hyperparameters"
      ]
    },
    {
      "cell_type": "code",
      "metadata": {
        "id": "5nsCZ9mkB4PP",
        "colab_type": "code",
        "colab": {}
      },
      "source": [
        "batch_size = 128\n",
        "learning_rate = 0.0005\n",
        "num_epoch = 10\n",
        "hidden_size = 50"
      ],
      "execution_count": 0,
      "outputs": []
    },
    {
      "cell_type": "markdown",
      "metadata": {
        "id": "rMeBrBJyB7o3",
        "colab_type": "text"
      },
      "source": [
        "### 3) Download Data"
      ]
    },
    {
      "cell_type": "code",
      "metadata": {
        "id": "vp3ck2bZCHOZ",
        "colab_type": "code",
        "outputId": "6fab68a1-2743-4443-d60a-f6c4b8e06bc2",
        "colab": {
          "base_uri": "https://localhost:8080/",
          "height": 325,
          "referenced_widgets": [
            "5e76c34dd901463b9fbdeb1c48d54088",
            "47276df89ad84945954602713f386748",
            "027b9860761e455bb095c3c3e683ffe2",
            "884e8a83e9c14d2bb2ae9353b225cdc9",
            "a5299502abd64731ac5fb15e978a3f99",
            "87ad92c50cba440ab5d2db237b4f1413",
            "393dd41007a04fcfa050697cb736cbc1",
            "d24df2cae33b4eaa9068b0174872511a",
            "30ac7ad7b4c84d988c5fca9f669a23c3",
            "79a238e2fc614c0b868804d9d4c4b162",
            "c1ad885f0b43495db070a3e8f0abfcb5",
            "52deed4db1c14ba9b42741e55d6dc959",
            "6f81bcf6acc44f52bd0cc039e4c8929d",
            "8e8a92f8b0724e7e81d99b1e3e0f7591",
            "3d2338b4d37d447b9456d23f6b9275aa",
            "72246747eb8b42f495400076fa5f015c",
            "48eec7d5e37a4e63bb4972065a5c5a37",
            "56afeafb750f450193d253c18eaec478",
            "05db3d36ffed4ef4be7c5d03a134d362",
            "d01eef2562e9458c8ceebb57c47a5fe0",
            "653c852c95b442aa95fed3f005c696ce",
            "6f44c36dcea34304bb6da6d7965b56ca",
            "7ccff9fe7a0b4d7eab4b5c94ffd45440",
            "d04ae96983144e5b99f11dd8264ec7f3",
            "02635a9a3dce4920b295925354d72659",
            "b73c2cf3fe074e8dad9ff81caf558aec",
            "bf9aac33a0844b7a8655656806b622c7",
            "1cdadc66c5a5448e8dde34a2b8d726a5",
            "6e89c5b1d4cc4e1ea9491a41b7b28c53",
            "407d309cd2cc49d78f3f60cb3fa8a6e5",
            "ba351c402b0b4e87a37cb78887b618cb",
            "8822fe89cb0e4c9da6d94b029a1e3a6b"
          ]
        }
      },
      "source": [
        "mnist_train = dset.MNIST(\"./\", train=True, transform=transforms.ToTensor(), target_transform=None, download=True)\n",
        "mnist_test = dset.MNIST(\"./\", train=False, transform=transforms.ToTensor(), target_transform=None, download=True)"
      ],
      "execution_count": 0,
      "outputs": [
        {
          "output_type": "stream",
          "text": [
            "Downloading http://yann.lecun.com/exdb/mnist/train-images-idx3-ubyte.gz to ./MNIST/raw/train-images-idx3-ubyte.gz\n"
          ],
          "name": "stdout"
        },
        {
          "output_type": "display_data",
          "data": {
            "application/vnd.jupyter.widget-view+json": {
              "model_id": "5e76c34dd901463b9fbdeb1c48d54088",
              "version_minor": 0,
              "version_major": 2
            },
            "text/plain": [
              "HBox(children=(IntProgress(value=1, bar_style='info', max=1), HTML(value='')))"
            ]
          },
          "metadata": {
            "tags": []
          }
        },
        {
          "output_type": "stream",
          "text": [
            "Extracting ./MNIST/raw/train-images-idx3-ubyte.gz to ./MNIST/raw\n",
            "Downloading http://yann.lecun.com/exdb/mnist/train-labels-idx1-ubyte.gz to ./MNIST/raw/train-labels-idx1-ubyte.gz\n"
          ],
          "name": "stdout"
        },
        {
          "output_type": "display_data",
          "data": {
            "application/vnd.jupyter.widget-view+json": {
              "model_id": "30ac7ad7b4c84d988c5fca9f669a23c3",
              "version_minor": 0,
              "version_major": 2
            },
            "text/plain": [
              "HBox(children=(IntProgress(value=1, bar_style='info', max=1), HTML(value='')))"
            ]
          },
          "metadata": {
            "tags": []
          }
        },
        {
          "output_type": "stream",
          "text": [
            "Extracting ./MNIST/raw/train-labels-idx1-ubyte.gz to ./MNIST/raw\n",
            "Downloading http://yann.lecun.com/exdb/mnist/t10k-images-idx3-ubyte.gz to ./MNIST/raw/t10k-images-idx3-ubyte.gz\n"
          ],
          "name": "stdout"
        },
        {
          "output_type": "display_data",
          "data": {
            "application/vnd.jupyter.widget-view+json": {
              "model_id": "48eec7d5e37a4e63bb4972065a5c5a37",
              "version_minor": 0,
              "version_major": 2
            },
            "text/plain": [
              "HBox(children=(IntProgress(value=1, bar_style='info', max=1), HTML(value='')))"
            ]
          },
          "metadata": {
            "tags": []
          }
        },
        {
          "output_type": "stream",
          "text": [
            "Extracting ./MNIST/raw/t10k-images-idx3-ubyte.gz to ./MNIST/raw\n",
            "Downloading http://yann.lecun.com/exdb/mnist/t10k-labels-idx1-ubyte.gz to ./MNIST/raw/t10k-labels-idx1-ubyte.gz\n"
          ],
          "name": "stdout"
        },
        {
          "output_type": "display_data",
          "data": {
            "application/vnd.jupyter.widget-view+json": {
              "model_id": "02635a9a3dce4920b295925354d72659",
              "version_minor": 0,
              "version_major": 2
            },
            "text/plain": [
              "HBox(children=(IntProgress(value=1, bar_style='info', max=1), HTML(value='')))"
            ]
          },
          "metadata": {
            "tags": []
          }
        },
        {
          "output_type": "stream",
          "text": [
            "Extracting ./MNIST/raw/t10k-labels-idx1-ubyte.gz to ./MNIST/raw\n",
            "Processing...\n",
            "Done!\n"
          ],
          "name": "stdout"
        }
      ]
    },
    {
      "cell_type": "markdown",
      "metadata": {
        "id": "bL7IUVRiCI2j",
        "colab_type": "text"
      },
      "source": [
        "### 4) Set DataLoader"
      ]
    },
    {
      "cell_type": "code",
      "metadata": {
        "id": "9UiJJK8UCMTn",
        "colab_type": "code",
        "colab": {}
      },
      "source": [
        "train_loader = torch.utils.data.DataLoader(mnist_train,batch_size=batch_size, shuffle=True,num_workers=2,drop_last=True)\n",
        "test_loader = torch.utils.data.DataLoader(mnist_test,batch_size=batch_size, shuffle=False,num_workers=2,drop_last=True)"
      ],
      "execution_count": 0,
      "outputs": []
    },
    {
      "cell_type": "markdown",
      "metadata": {
        "id": "R8DnqETcCSuL",
        "colab_type": "text"
      },
      "source": [
        "### 5) Model"
      ]
    },
    {
      "cell_type": "code",
      "metadata": {
        "id": "-KwqK7vfCVll",
        "colab_type": "code",
        "colab": {}
      },
      "source": [
        "class Encoder(nn.Module):\n",
        "    def __init__(self):\n",
        "        super(Encoder,self).__init__()\n",
        "        self.fc1_1 = nn.Linear(784, hidden_size) # for mu\n",
        "        self.fc1_2 = nn.Linear(784, hidden_size) # for logvar\n",
        "        self.relu = nn.ReLU()\n",
        "                        \n",
        "    def encode(self,x):\n",
        "        x = x.view(batch_size,-1)\n",
        "        mu = self.relu(self.fc1_1(x))\n",
        "        log_var = self.relu(self.fc1_2(x))\n",
        "                \n",
        "        return mu,log_var\n",
        "    \n",
        "    def reparametrize(self, mu, logvar):\n",
        "        '''\n",
        "        Transformation for differentiable function\n",
        "        Return\n",
        "            z = mu + std * eps\n",
        "        '''\n",
        "        std = logvar.mul(0.5).exp_()\n",
        "        eps = torch.FloatTensor(std.size()).normal_()\n",
        "        eps = Variable(eps).cuda()\n",
        "\n",
        "        return eps.mul(std).add_(mu)\n",
        "    \n",
        "    def forward(self,x):\n",
        "        mu, logvar = self.encode(x)\n",
        "        reparam = self.reparametrize(mu,logvar)\n",
        "        \n",
        "        return mu,logvar,reparam\n",
        "\n",
        "class Decoder(nn.Module):\n",
        "    def __init__(self):\n",
        "        super(Decoder,self).__init__()\n",
        "        self.fc1 = nn.Linear(hidden_size, 784)\n",
        "        self.sigmoid = nn.Sigmoid()\n",
        "    \n",
        "    def forward(self,x):\n",
        "        out = self.fc1(x)\n",
        "        out = self.sigmoid(out)\n",
        "        out = out.view(batch_size,28,28,1)\n",
        "        \n",
        "        return out\n",
        "                \n",
        "encoder = Encoder().cuda()\n",
        "decoder = Decoder().cuda()"
      ],
      "execution_count": 0,
      "outputs": []
    },
    {
      "cell_type": "markdown",
      "metadata": {
        "id": "lAo2LFCUDvsE",
        "colab_type": "text"
      },
      "source": [
        "### 6) Loss function & Optimizer\n",
        "\n",
        "- Kingma and Welling. Auto-Encoding Variational Bayes. ICLR, 2014\n",
        "- https://arxiv.org/abs/1312.6114\n",
        "\n",
        "$$\n",
        "\\tilde{\\mathcal{L}}^B(\\theta, \\phi; X^{(i)}) = -D_{KL}(q_{\\phi}(Z \\mid X^{(i)}) \\mid \\mid p_{\\theta}(Z)) + \\frac{1}{L} \\sum_{l=1}^L ( \\log p_{\\theta}(x^{(i)}) \\mid z^{(i, l)})\n",
        "\\text{    where   } Z^{(i, l)} = g_{\\phi}(\\epsilon^{(i, l)}, X^{(i)}), \\ \\ \\epsilon^{(l)} \\sim p(\\epsilon)\n",
        "$$\n",
        "\n",
        "From appendix B\n",
        "$$\n",
        "-D_{KL}(q_{\\phi}(Z \\mid X^{(i)}) \\mid \\mid p_{\\theta}(Z)) = \\frac{1}{2} \\sum_{j=1}^J(1 + \\log(\\sigma_j^2) - u_j^2 -\\sigma_j^2)\n",
        "$$"
      ]
    },
    {
      "cell_type": "code",
      "metadata": {
        "id": "tJS1db4_DvOY",
        "colab_type": "code",
        "outputId": "d1ae5a9d-5550-41ff-95cd-5c84410b3678",
        "colab": {
          "base_uri": "https://localhost:8080/",
          "height": 53
        }
      },
      "source": [
        "reconstruction_function = nn.BCELoss(size_average=False) # 각 element들의 BCE loss를 모두 sum해야 kld scale과 일치한다.\n",
        "\n",
        "def loss_function(recon_x, x, mu, logvar):\n",
        "    BCE = reconstruction_function(recon_x, x) # reconstruction error\n",
        "\n",
        "    # see Appendix B from VAE paper:\n",
        "    # Kingma and Welling. Auto-Encoding Variational Bayes. ICLR, 2014\n",
        "    # https://arxiv.org/abs/1312.6114\n",
        "    # 0.5 * sum(1 + log(sigma^2) - mu^2 - sigma^2)\n",
        "    KLD_element = mu.pow(2).add_(logvar.exp()).mul_(-1).add_(1).add_(logvar)\n",
        "    KLD = torch.sum(KLD_element).mul_(-0.5) # regularizer term\n",
        "\n",
        "    return BCE + KLD\n",
        "\n",
        "parameters = list(encoder.parameters())+ list(decoder.parameters())\n",
        "optimizer = torch.optim.Adam(parameters, lr=learning_rate)"
      ],
      "execution_count": 0,
      "outputs": [
        {
          "output_type": "stream",
          "text": [
            "/usr/local/lib/python3.6/dist-packages/torch/nn/_reduction.py:43: UserWarning: size_average and reduce args will be deprecated, please use reduction='sum' instead.\n",
            "  warnings.warn(warning.format(ret))\n"
          ],
          "name": "stderr"
        }
      ]
    },
    {
      "cell_type": "markdown",
      "metadata": {
        "id": "EUBGxhXiEFF9",
        "colab_type": "text"
      },
      "source": [
        "### 7) Train"
      ]
    },
    {
      "cell_type": "code",
      "metadata": {
        "id": "j8AHhIMtEHdg",
        "colab_type": "code",
        "outputId": "60d2b91f-b47e-496d-d041-187d30ee1a05",
        "colab": {
          "base_uri": "https://localhost:8080/",
          "height": 355
        }
      },
      "source": [
        "try:\n",
        "    encoder, decoder = torch.load('./model/variational_autoencoder.pkl')\n",
        "    print(\"\\n--------model restored--------\\n\")\n",
        "except:\n",
        "    print(\"\\n--------model not restored--------\\n\")\n",
        "    pass\n",
        "\n",
        "res = []\n",
        "\n",
        "for i in range(num_epoch):\n",
        "    cum_loss = 0\n",
        "    for j,[image,label] in enumerate(train_loader):\n",
        "        optimizer.zero_grad()\n",
        "        \n",
        "        image = Variable(image).cuda()\n",
        "        mu,log_var,reparam = encoder(image)\n",
        "        output = decoder(reparam)\n",
        "        \n",
        "        loss = loss_function(output, image, mu, log_var)\n",
        "        cum_loss += loss\n",
        "        loss.backward()\n",
        "        optimizer.step()\n",
        "    res.append(cum_loss / len(train_loader))\n",
        "\n",
        "# Train graph\n",
        "plt.plot(res)\n",
        "plt.show()"
      ],
      "execution_count": 0,
      "outputs": [
        {
          "output_type": "stream",
          "text": [
            "\n",
            "--------model not restored--------\n",
            "\n"
          ],
          "name": "stdout"
        },
        {
          "output_type": "stream",
          "text": [
            "/usr/local/lib/python3.6/dist-packages/torch/nn/modules/loss.py:498: UserWarning: Using a target size (torch.Size([128, 1, 28, 28])) that is different to the input size (torch.Size([128, 28, 28, 1])) is deprecated. Please ensure they have the same size.\n",
            "  return F.binary_cross_entropy(input, target, weight=self.weight, reduction=self.reduction)\n"
          ],
          "name": "stderr"
        },
        {
          "output_type": "display_data",
          "data": {
            "image/png": "[encoded data removed]",
            "text/plain": [
              "<Figure size 432x288 with 1 Axes>"
            ]
          },
          "metadata": {
            "tags": []
          }
        }
      ]
    },
    {
      "cell_type": "markdown",
      "metadata": {
        "id": "qtN4GgzcFJXc",
        "colab_type": "text"
      },
      "source": [
        "### 8) Check with Train Image\n",
        "아래의 이미지를 통해서 encoding된 train image가 decoding된 것을 확인할 수 있다."
      ]
    },
    {
      "cell_type": "code",
      "metadata": {
        "id": "yW9Nnrc6FH2I",
        "colab_type": "code",
        "outputId": "e3307c9a-d6d3-43b4-884b-cbbeb9e07a89",
        "colab": {
          "base_uri": "https://localhost:8080/",
          "height": 1000
        }
      },
      "source": [
        "out_img = torch.squeeze(output.cpu().data)\n",
        "print(out_img.size())\n",
        "\n",
        "for i in range(5):\n",
        "    plt.imshow(out_img[i].numpy(),cmap='gray')\n",
        "    plt.show()"
      ],
      "execution_count": 0,
      "outputs": [
        {
          "output_type": "stream",
          "text": [
            "torch.Size([128, 28, 28])\n"
          ],
          "name": "stdout"
        },
        {
          "output_type": "display_data",
          "data": {
            "image/png": "[encoded data removed]",
            "text/plain": [
              "<Figure size 432x288 with 1 Axes>"
            ]
          },
          "metadata": {
            "tags": []
          }
        },
        {
          "output_type": "display_data",
          "data": {
            "image/png": "[encoded data removed]",
            "text/plain": [
              "<Figure size 432x288 with 1 Axes>"
            ]
          },
          "metadata": {
            "tags": []
          }
        },
        {
          "output_type": "display_data",
          "data": {
            "image/png": "[encoded data removed]",
            "text/plain": [
              "<Figure size 432x288 with 1 Axes>"
            ]
          },
          "metadata": {
            "tags": []
          }
        },
        {
          "output_type": "display_data",
          "data": {
            "image/png": "[encoded data removed]",
            "text/plain": [
              "<Figure size 432x288 with 1 Axes>"
            ]
          },
          "metadata": {
            "tags": []
          }
        },
        {
          "output_type": "display_data",
          "data": {
            "image/png": "[encoded data removed]",
            "text/plain": [
              "<Figure size 432x288 with 1 Axes>"
            ]
          },
          "metadata": {
            "tags": []
          }
        }
      ]
    },
    {
      "cell_type": "markdown",
      "metadata": {
        "id": "mryLipVHFlnk",
        "colab_type": "text"
      },
      "source": [
        "### 9) Check with Test image"
      ]
    },
    {
      "cell_type": "code",
      "metadata": {
        "id": "ReGE7O83FiDu",
        "colab_type": "code",
        "outputId": "5955c31b-bcd6-4473-c423-0e3fdcec5a3e",
        "colab": {
          "base_uri": "https://localhost:8080/",
          "height": 53
        }
      },
      "source": [
        "for i in range(1):\n",
        "    for j,[image,label] in enumerate(test_loader):       \n",
        "        image = Variable(image,volatile=True).cuda()\n",
        "        output,mean,var = encoder(image)\n",
        "        output = decoder(output)"
      ],
      "execution_count": 0,
      "outputs": [
        {
          "output_type": "stream",
          "text": [
            "/usr/local/lib/python3.6/dist-packages/ipykernel_launcher.py:3: UserWarning: volatile was removed and now has no effect. Use `with torch.no_grad():` instead.\n",
            "  This is separate from the ipykernel package so we can avoid doing imports until\n"
          ],
          "name": "stderr"
        }
      ]
    },
    {
      "cell_type": "code",
      "metadata": {
        "id": "sGGbAmHhFwFF",
        "colab_type": "code",
        "outputId": "d02e6cd7-b58d-42bf-cadd-2706691ee0bd",
        "colab": {
          "base_uri": "https://localhost:8080/",
          "height": 1000
        }
      },
      "source": [
        "out_img = torch.squeeze(output.cpu().data)\n",
        "print(out_img.size())\n",
        "\n",
        "for i in range(5):\n",
        "    plt.imshow(torch.squeeze(image[i].cpu()).data.numpy(),cmap='gray')\n",
        "    plt.show()\n",
        "    plt.imshow(out_img[i].numpy(),cmap='gray')\n",
        "    plt.show()"
      ],
      "execution_count": 0,
      "outputs": [
        {
          "output_type": "stream",
          "text": [
            "torch.Size([128, 28, 28])\n"
          ],
          "name": "stdout"
        },
        {
          "output_type": "display_data",
          "data": {
            "image/png": "[encoded data removed]",
            "text/plain": [
              "<Figure size 432x288 with 1 Axes>"
            ]
          },
          "metadata": {
            "tags": []
          }
        },
        {
          "output_type": "display_data",
          "data": {
            "image/png": "[encoded data removed]",
            "text/plain": [
              "<Figure size 432x288 with 1 Axes>"
            ]
          },
          "metadata": {
            "tags": []
          }
        },
        {
          "output_type": "display_data",
          "data": {
            "image/png": "[encoded data removed]",
            "text/plain": [
              "<Figure size 432x288 with 1 Axes>"
            ]
          },
          "metadata": {
            "tags": []
          }
        },
        {
          "output_type": "display_data",
          "data": {
            "image/png": "[encoded data removed]",
            "text/plain": [
              "<Figure size 432x288 with 1 Axes>"
            ]
          },
          "metadata": {
            "tags": []
          }
        },
        {
          "output_type": "display_data",
          "data": {
            "image/png": "[encoded data removed]",
            "text/plain": [
              "<Figure size 432x288 with 1 Axes>"
            ]
          },
          "metadata": {
            "tags": []
          }
        },
        {
          "output_type": "display_data",
          "data": {
            "image/png": "[encoded data removed]",
            "text/plain": [
              "<Figure size 432x288 with 1 Axes>"
            ]
          },
          "metadata": {
            "tags": []
          }
        },
        {
          "output_type": "display_data",
          "data": {
            "image/png": "[encoded data removed]",
            "text/plain": [
              "<Figure size 432x288 with 1 Axes>"
            ]
          },
          "metadata": {
            "tags": []
          }
        },
        {
          "output_type": "display_data",
          "data": {
            "image/png": "[encoded data removed]",
            "text/plain": [
              "<Figure size 432x288 with 1 Axes>"
            ]
          },
          "metadata": {
            "tags": []
          }
        },
        {
          "output_type": "display_data",
          "data": {
            "image/png": "[encoded data removed]",
            "text/plain": [
              "<Figure size 432x288 with 1 Axes>"
            ]
          },
          "metadata": {
            "tags": []
          }
        },
        {
          "output_type": "display_data",
          "data": {
            "image/png": "[encoded data removed]",
            "text/plain": [
              "<Figure size 432x288 with 1 Axes>"
            ]
          },
          "metadata": {
            "tags": []
          }
        }
      ]
    }
  ]
}